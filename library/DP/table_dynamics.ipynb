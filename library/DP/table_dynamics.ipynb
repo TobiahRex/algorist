{
 "cells": [
  {
   "cell_type": "markdown",
   "metadata": {},
   "source": [
    "# Table Dynamics\n",
    "Learn the mechanics & skills required to express table traversal patterns. This skill will be extremely foundational to expressing Dynamic Programming solutions in table-terms.\n",
    "\n",
    "## Skills\n",
    "1. Table Creation:\n",
    "    1. Create table with every cell initialized to same value\n",
    "    2. Create table with every cell having same value as row\n",
    "    3. Create table with every cell incrementing by 1 from prev. row & col\n",
    "    4. Create table with every cell initialized to -1 except diagonal line; initialized to 0\n",
    "    5. Create table with...\n",
    "        1. Starting at South-East-most cell, diagonals are initialized to 1\n",
    "        2. Same as 5.1, Then n/2 upper half is initialized to 0.\n",
    "        3. Same as 5.2 but then assign (row,col) as Max[(-1,-1)+(row,col), (-1,0)+(row, col)] for entire upper half.\n",
    "            * Iterate each cell in the current row, then move to the next row and repeat for (prev-row - 1) columns.\n",
    "2. Top-Down: Starting from top row of table moving to lower rows.\n",
    "    1. Diagonal cells in order.\n",
    "    2. Single row chunks in increasing length.\n",
    "    3. Take cell at current (row,col), and insert incremented value at (next-row,next-col).\n",
    "    4. Take cell at current (row,col), and insert increment value at (next-row, nth-col).\n",
    "3. Bottom-Up: Starting from bottom row of table, moving to higher rows.\n",
    "    1. Diagonal cells in order.\n",
    "    2. Single row chunks in increasing length.\n",
    "    3. Take cell at current (row,col), and insert incremented value at (prev-row, prev-col).\n",
    "    4. Take cell at current (row,col), and insert increment value at (prev-row, nth-col)."
   ]
  },
  {
   "cell_type": "code",
   "execution_count": 48,
   "metadata": {},
   "outputs": [
    {
     "name": "stdout",
     "output_type": "stream",
     "text": [
      "[0, 0, 0, 0]\n",
      "[0, 0, 0, 0]\n",
      "[0, 0, 0, 0]\n",
      "[0, 0, 0, 0]\n"
     ]
    }
   ],
   "source": [
    "\"\"\"1.1: Create table with every cell initialized to same value\n",
    "example\n",
    "{\n",
    "    [0, 0, 0, 0],\n",
    "    [0, 0, 0, 0],\n",
    "    [0, 0, 0, 0],\n",
    "    [0, 0, 0, 0],\n",
    "}\n",
    "\"\"\"\n",
    "def create_table(table_size):\n",
    "    table = {i: [0]*table_size for i in range(table_size)}\n",
    "    [print(row) for row in table.values()]\n",
    "create_table(4)"
   ]
  },
  {
   "cell_type": "code",
   "execution_count": 47,
   "metadata": {},
   "outputs": [
    {
     "name": "stdout",
     "output_type": "stream",
     "text": [
      "[0, 0, 0, 0]\n",
      "[1, 1, 1, 1]\n",
      "[2, 2, 2, 2]\n",
      "[3, 3, 3, 3]\n"
     ]
    }
   ],
   "source": [
    "\"\"\"1.2: Create table with every cell having same value as row\n",
    "example\n",
    "{\n",
    "    [0, 0, 0, 0],\n",
    "    [1, 1, 1, 1],\n",
    "    [2, 2, 2, 2],\n",
    "    [3, 3, 3, 3],\n",
    "}\n",
    "\"\"\"\n",
    "def create_table(table_size):\n",
    "    table = {i: [i]*table_size for i in range(table_size)}\n",
    "    [print(row) for row in table.values()]\n",
    "create_table(4)\n"
   ]
  },
  {
   "cell_type": "code",
   "execution_count": 46,
   "metadata": {},
   "outputs": [
    {
     "name": "stdout",
     "output_type": "stream",
     "text": [
      "[0, 1, 2, 3]\n",
      "[4, 5, 6, 7]\n",
      "[8, 9, 10, 11]\n",
      "[12, 13, 14, 15]\n"
     ]
    }
   ],
   "source": [
    "\"\"\"1.3: Create table with every cell incrementing by 1 from prev. row & col\n",
    "example\n",
    "{\n",
    "    [0, 1, 2, 3],\n",
    "    [4, 5, 6, 7],\n",
    "    [8, 9, 10, 11],\n",
    "    [12, 13, 14, 15],\n",
    "}\n",
    "\"\"\"\n",
    "def create_table(table_size):\n",
    "    table = {i: [0]*table_size for i in range(table_size)}\n",
    "    for i in range(table_size):\n",
    "        for j in range(table_size):\n",
    "            table[i][j] = (table_size * i) + j\n",
    "    [print(row) for row in table.values()]\n",
    "create_table(4)\n"
   ]
  },
  {
   "cell_type": "code",
   "execution_count": 45,
   "metadata": {},
   "outputs": [
    {
     "name": "stdout",
     "output_type": "stream",
     "text": [
      "[0, -1, -1, -1]\n",
      "[-1, 0, -1, -1]\n",
      "[-1, -1, 0, -1]\n",
      "[-1, -1, -1, 0]\n"
     ]
    }
   ],
   "source": [
    "\"\"\"1.4: Create table with every cell initialized to -1 except diagonal line; initialized to 0\n",
    "example\n",
    "{\n",
    "    [0, -1, -1, -1],\n",
    "    [-1, 0, -1, -1],\n",
    "    [-1, -1, 0, -1],\n",
    "    [-1, -1, -1, 0],\n",
    "}\n",
    "\"\"\"\n",
    "\n",
    "def create_table(table_size):\n",
    "    table = {i: [-1]*table_size for i in range(table_size)}\n",
    "    for i in range(table_size):\n",
    "        table[i][i] = 0\n",
    "    [print(row) for row in table.values()]\n",
    "    \"\"\"INTUITION:\n",
    "    1. x,x: (0,-0),(1,-1),(2,-2) -> denotes South-East diagonal coords.\n",
    "    2. -x,-x: (-0,-0),(-1,-1),(-2,-2) -> denotes South-West diagonal coords.\n",
    "    \"\"\"\n",
    "create_table(4)"
   ]
  },
  {
   "cell_type": "code",
   "execution_count": 49,
   "metadata": {},
   "outputs": [
    {
     "name": "stdout",
     "output_type": "stream",
     "text": [
      "[1, -1, -1, -1]\n",
      "[-1, 1, -1, -1]\n",
      "[-1, -1, 1, -1]\n",
      "[-1, -1, -1, 1]\n"
     ]
    }
   ],
   "source": [
    "\"\"\"1.5.1: Create Table where:\n",
    "1. All cells initialized to -1\n",
    "2. Starting from South-East-most cell, change value of diagonal to 0\n",
    "example\n",
    "{\n",
    "    [0 (END), -1, -1, -1],\n",
    "    [-1, 0, -1, -1],\n",
    "    [-1, -1, 0, -1],\n",
    "    [-1, -1, -1, 0 (START)],\n",
    "}\n",
    "\"\"\"\n",
    "def create_table(size):\n",
    "    table = {i: [-1]*size for i in range(size)}\n",
    "    for i in range(size-1, -1, -1):\n",
    "        table[i][i] = 1\n",
    "    [print(row) for row in table.values()]\n",
    "create_table(4)"
   ]
  },
  {
   "cell_type": "code",
   "execution_count": 95,
   "metadata": {},
   "outputs": [
    {
     "name": "stdout",
     "output_type": "stream",
     "text": [
      "[0, 0, 0, 0]\n",
      "[-1, 0, 0, 0]\n",
      "[-1, -1, 0, 0]\n",
      "[-1, -1, -1, 0]\n"
     ]
    }
   ],
   "source": [
    "\"\"\" 1.5.2 Create Table where:\n",
    "Same as 1.5.1, Then n/2 upper half is initialized to 0.\n",
    "\n",
    "[Start]\n",
    "{\n",
    "    [1, -1, -1, -1],\n",
    "    [-1, 1, -1, -1],\n",
    "    [-1, -1, 1, -1],\n",
    "    [-1, -1, -1, 1],\n",
    "}\n",
    "[Coordinates]\n",
    "    [(0, 0), (0, 1), (0, 2), (0, 3)],\n",
    "    [(1, 0), (1, 1), (1, 2), (1, 3)],\n",
    "    [(2, 0), (2, 1), (2, 2), (2, 3)],\n",
    "    [(3, 0), (3, 1), (3, 2), (3, 3)],\n",
    "\n",
    "[Desired Traversal]\n",
    "    (0,0), (0,1), (0,2), (0,3)\n",
    "           (1,1), (1,2), (1,3)\n",
    "                  (2,2), (2,3)\n",
    "                         (3,3)\n",
    "\"\"\"\n",
    "def create_table(size):\n",
    "    # Create Table\n",
    "    table = []\n",
    "    # Seed n/2 values to 0\n",
    "    for i in range(size):\n",
    "        for j in range(size):\n",
    "            if j == 0: table.append([])\n",
    "            if j < i: table[i].append(-1)\n",
    "            else: table[i].append(0)\n",
    "    [print(row) for row in table]\n",
    "create_table(4)"
   ]
  },
  {
   "cell_type": "code",
   "execution_count": 71,
   "metadata": {},
   "outputs": [
    {
     "name": "stdout",
     "output_type": "stream",
     "text": [
      "[0, 1, 1, 1]\n",
      "[-1, 0, 1, 1]\n",
      "[-1, -1, 0, 1]\n",
      "[-1, -1, -1, 0]\n"
     ]
    }
   ],
   "source": [
    "\"\"\" 1.5.3 Create Table where:\n",
    "Same as 5.2 but then assign (row,col) as Max[(-1,-1)+(row,col), (-1,0)+(row, col)] for\n",
    "entire upper half. Iterate each cell in the current row, then move to the next row and\n",
    "repeat for (prev-row - 1) columns.\n",
    "\n",
    "[Start]\n",
    "{\n",
    "    [1, 0, 0, 0],\n",
    "    [-1, 1, 0, 0],\n",
    "    [-1, -1, 1, 0],\n",
    "    [-1, -1, -1, 1],\n",
    "}\n",
    "[Coordinates]\n",
    "    [(0, 0), (0, 1), (0, 2), (0, 3)],\n",
    "    [(1, 0), (1, 1), (1, 2), (1, 3)],\n",
    "    [(2, 0), (2, 1), (2, 2), (2, 3)],\n",
    "    [(3, 0), (3, 1), (3, 2), (3, 3)],\n",
    "\n",
    "[Desired Traversal]\n",
    "    (0,0), (0,1), (0,2), (0,3)\n",
    "           (1,1), (1,2), (1,3)\n",
    "                  (2,2), (2,3)\n",
    "                         (3,3)\n",
    "\"\"\"\n",
    "\n",
    "def create_table(size):\n",
    "    # Initialize Table\n",
    "    table = []\n",
    "    for r in range(size):\n",
    "        for c in range(size):\n",
    "            if c == 0: table.append([])\n",
    "            if c < r: table.append()\n",
    "\n",
    "    # DP - simple addition\n",
    "    for row in range(size-1, -1, -1):  # bottom-up of Table\n",
    "        for col in range(row, size):\n",
    "            # This section also can be used to initialize diagonal to 0. Since we're hitting these cells FIRST, then we can save some time.\n",
    "            # if row == col:\n",
    "            #     table[row][col] = 0\n",
    "            #     continue\n",
    "            if row == col:\n",
    "                continue\n",
    "            table[row][col] = 1\n",
    "    [print(row) for row in table.values()]\n",
    "\n",
    "create_table(4)\n"
   ]
  },
  {
   "cell_type": "code",
   "execution_count": 12,
   "metadata": {},
   "outputs": [
    {
     "name": "stdout",
     "output_type": "stream",
     "text": [
      "value:  1\n",
      "value:  2\n",
      "value:  3\n",
      "value:  4\n",
      "value:  5\n",
      "min:  1\n",
      "value:  6\n",
      "min:  2\n",
      "value:  7\n",
      "min:  3\n",
      "value:  8\n",
      "min:  5\n",
      "value:  9\n",
      "min:  6\n",
      "value:  10\n",
      "min:  8\n"
     ]
    },
    {
     "data": {
      "text/plain": [
       "10"
      ]
     },
     "execution_count": 12,
     "metadata": {},
     "output_type": "execute_result"
    }
   ],
   "source": [
    "\"\"\" Print diagonal by diagonal such that values in cells print in order:\n",
    "\n",
    "[Start]\n",
    "{\n",
    "    [1, 5, 8, 10],\n",
    "    [0, 2, 6, 9],\n",
    "    [0, 0, 3, 7],\n",
    "    [0, 0, 0, 4],\n",
    "}\n",
    "[Coordinates]\n",
    "    [(0, 0), (0, 1), (0, 2), (0, 3)],\n",
    "    [(1, 0), (1, 1), (1, 2), (1, 3)],\n",
    "    [(2, 0), (2, 1), (2, 2), (2, 3)],\n",
    "    [(3, 0), (3, 1), (3, 2), (3, 3)],\n",
    "Desired Coordinates\n",
    "    [(0, 0), (0, 1), (0, 2), (0, 3)],\n",
    "    [      , (1, 1), (1, 2), (1, 3)],\n",
    "    [      ,       , (2, 2), (2, 3)],\n",
    "    [      ,       ,       ,  (3, 3)],\n",
    "\n",
    "    n - i = 4 - 0 = 4\n",
    "    0,0     | i = 0, j = 0  | i+j = 0\n",
    "    1,1     | i = 0, j = 1  | i+j = 1\n",
    "    2,2     | i = 0, j = 2  | i+j = 2\n",
    "    3,3     | i = 0, j = 3  | i+j = 3\n",
    "\n",
    "    n - i = 4 - 1 = 3\n",
    "    0,1     | i = 1, j = 0  | i+j = 1\n",
    "    1,2     | i = 1, j = 1  | i+j=  2\n",
    "    2,3     | i = 1, j = 2  | i+j = 3\n",
    "\n",
    "    n - i = 4 - 2 = 2\n",
    "    0,2     | i = 2, j = 0  | i+j = 2\n",
    "    1,3     | i = 2, j = 1  | i+j = 3\n",
    "\n",
    "    n - i = 4 - 3 = 1\n",
    "    0,3     | i = 3, j = 0 | i+j = 3\n",
    "\"\"\"\n",
    "def show_diag_by_diag(table):\n",
    "    mins = []\n",
    "    n = len(table)\n",
    "    for j in range(n):\n",
    "        dlen = n-j\n",
    "        for i in range(dlen):\n",
    "            ptr = i+j\n",
    "            print('value: ', table[i][ptr])\n",
    "            if j == 0:\n",
    "                pass\n",
    "            else:\n",
    "                print('min: ', min(table[i+1][ptr], table[i][ptr-1]))\n",
    "    return table[0][-1]\n",
    "\n",
    "show_diag_by_diag([\n",
    "    [1, 5, 8, 10],\n",
    "    [0, 2, 6, 9],\n",
    "    [0, 0, 3, 7],\n",
    "    [0, 0, 0, 4]\n",
    "])\n"
   ]
  }
 ],
 "metadata": {
  "kernelspec": {
   "display_name": "Python 3.8.9 ('env': venv)",
   "language": "python",
   "name": "python3"
  },
  "language_info": {
   "codemirror_mode": {
    "name": "ipython",
    "version": 3
   },
   "file_extension": ".py",
   "mimetype": "text/x-python",
   "name": "python",
   "nbconvert_exporter": "python",
   "pygments_lexer": "ipython3",
   "version": "3.8.9"
  },
  "orig_nbformat": 4,
  "vscode": {
   "interpreter": {
    "hash": "7567341d4109f7d7c109ca0cef11eb54bdf88081d7a72c6faa88d24a2db59b1f"
   }
  }
 },
 "nbformat": 4,
 "nbformat_minor": 2
}
