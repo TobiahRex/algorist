{
 "cells": [
  {
   "cell_type": "markdown",
   "metadata": {},
   "source": [
    "# Instructors Notes\n",
    "1. [Lecture Notes](https://docs.google.com/document/d/1ZexXsA14tb3gPd1Br2H5ijWNscg2qWqJHi4mkSr2XbM/edit)\n",
    "2. [Solution Notes](https://docs.google.com/document/d/13hNc4Cv8D1_N2HygbSWSxQ2nqibnpof9zxGRQR80CtU/edit)"
   ]
  },
  {
   "cell_type": "markdown",
   "metadata": {},
   "source": []
  }
 ],
 "metadata": {
  "kernelspec": {
   "display_name": "Python 3.8.9 ('env': venv)",
   "language": "python",
   "name": "python3"
  },
  "language_info": {
   "name": "python",
   "version": "3.8.9"
  },
  "orig_nbformat": 4,
  "vscode": {
   "interpreter": {
    "hash": "7567341d4109f7d7c109ca0cef11eb54bdf88081d7a72c6faa88d24a2db59b1f"
   }
  }
 },
 "nbformat": 4,
 "nbformat_minor": 2
}
