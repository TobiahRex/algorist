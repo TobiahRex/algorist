{
 "cells": [
  {
   "cell_type": "markdown",
   "metadata": {},
   "source": [
    "# Arrays: Partitions\n",
    "1. Lomuto's | `Medium`\n",
    "2. Hoare's  | `Hard`"
   ]
  },
  {
   "cell_type": "markdown",
   "metadata": {},
   "source": [
    "## Lomutos\n",
    "1. Step 1:\n",
    "    - Pick a random Pivot. Why? Because this will avoid the _worst case scenario_ (see details at end of section).\n",
    "    - ```python\n",
    "        rix = random.randint(0, len(a)-1)\n",
    "        pivot = a[rix]\n",
    "        swap(a, rix, high)\n",
    "    ```\n",
    "2. Step 2:\n",
    "    - Define a sliding window\n",
    "    - ```python\n",
    "        i = low\n",
    "        for j in range(low, high):\n",
    "      ```\n",
    "    - `i` points to the **lowest** index where we can swap to. All elements left of `i` will be less than the pivot value. It will only *manually increment*.\n",
    "    - `j` points to the n'th value to compare, during one of the repeated passes. It will *automatically increment*.\n",
    "3. Step 3:\n",
    "    - Evaluate the n'th value relative to the pivot value\n",
    "    - ```python\n",
    "        if a[j] <= pivot:\n",
    "            if j > i:\n",
    "                swap(a, j, i)\n",
    "            i += 1\n",
    "      ```\n",
    "    - <img src=\"https://imgur.com/IKGmgin.png\" style=\"max-width:500px\">\n",
    "    - In the image above `i` = **lower pointer**, and `j` = **upper pointer**\n",
    "    - <img src=\"https://imgur.com/vw4r16B.png\" style=\"max-width:500px\">\n",
    "    - The pivot is `8`. The image shows the transition between, having finished evaluating `4` to `8`.  Since `4` is less than `8`, we increment `i`. The for loop, automatically will push `j` forward. And we'll see that since `9` is gte `8`, `i` will **not** move forward.\n",
    "    - <img src=\"https://imgur.com/uIwpXqP.png\" style=\"max-width:500px\">\n",
    "    - Now since `1` is lt `8`, we'll **swap** 1 with `9`. The result will be that `1` will be to the left of `9`, fullfilling the contract of the partition algo\n",
    "    > After iterating, all values left of the pivot, will be less than the pivot.\n",
    "    - <img src=\"https://imgur.com/ckgxRF3.png\" style=\"max-width:500px\">\n",
    "    - As we can see, `1` has been swapped to the left of `9`, and `j` is now pointing to `7` which will also be swapped with `9` since it's also lt `lt` the pivot.\n",
    "4. Step 4:\n",
    "    - Put the pivot value in it's final resting place, and return the index of the pivot.\n",
    "    - ```python\n",
    "        swap(a, high, i)\n",
    "      ```\n",
    "    - `i` has been tracking the left-most index where the pivot will be greater than all elements to the left, so once we've looked at all values, we can be sure, `i` is the best/last place to put the `pivot` value. The pivot has been sitting at `a[high]` so it's out of the way while we evaluate where to put it.\n",
    "\n",
    "#### Key Ideas\n",
    "1. Pick a random index, and put that index to the far-right (out of the way)\n",
    "2. `i` is finding the correct spot for the pivot.\n",
    "3. `j` is looking at the `n'th` value in the current  array iteration.\n",
    "4. All values between `i` & `j` are greater than the pivot."
   ]
  },
  {
   "cell_type": "code",
   "execution_count": 3,
   "metadata": {},
   "outputs": [
    {
     "name": "stdout",
     "output_type": "stream",
     "text": [
      "[3, 4, 9, 1, 7, 0, 5, 2, 6, 8]\n",
      "Pivot val =  8\n",
      "Swapping: 8 w/ 8\n",
      "Swapping: 1 w/ 9\n",
      "Swapping: 7 w/ 9\n",
      "Swapping: 0 w/ 9\n",
      "Swapping: 5 w/ 9\n",
      "Swapping: 2 w/ 9\n",
      "Swapping: 6 w/ 9\n",
      "Swapping: 8 w/ 9\n",
      "[3, 4, 1, 7, 0, 5, 2, 6, 8, 9]\n"
     ]
    }
   ],
   "source": [
    "import random\n",
    "\n",
    "\n",
    "def swap(a, l, r):\n",
    "    print(f'Swapping: {a[l]} w/ {a[r]}')\n",
    "    a[l], a[r] = a[r], a[l]\n",
    "\n",
    "def lomutos_partition(a, low, high):\n",
    "    rix = random.randint(0, len(a)-1)\n",
    "    pivot = a[rix]\n",
    "    print(f'Pivot val = ', pivot)\n",
    "    swap(a, rix, high)\n",
    "    i = low\n",
    "    for j in range(low, high):\n",
    "        if a[j] <= pivot:\n",
    "            if j > i:\n",
    "                swap(a, j, i)\n",
    "            i += 1\n",
    "    swap(a, high, i)\n",
    "    return i\n",
    "\n",
    "a = [3, 4, 9, 1, 7, 0, 5, 2, 6, 8]\n",
    "print(a)\n",
    "low = 0\n",
    "high = len(a) - 1\n",
    "lomutos_partition(a, low, high)\n",
    "print(a)\n"
   ]
  },
  {
   "cell_type": "markdown",
   "metadata": {},
   "source": [
    "### Worst Case Runtime Scenario\n",
    "Naive versions of Quick Sort use the leftmost (or rightmost) element as a pivot, the worst occurs in the following cases.\n",
    "\n",
    "1. Array is already sorted in the same order.\n",
    "2. Array is already sorted in reverse order.\n",
    "3. All elements are the same (a special case of cases 1 and 2)\n",
    "\n",
    "The problems above are easily solved by choosing\n",
    "\n",
    "1. A **random index** for the pivot\n",
    "2. The middle index of the partition\n",
    "    - A useful technique in problems where we don't want to sort, but rather, we want to eliminate batches of elements we don't care about while looking for a particular element. E.g. keep the right half, throw away the left half.\n",
    "3. Choosing the median of the first, middle and last element of the partition for the pivot.\n",
    "    - (especially for longer partitions)\n",
    "\n",
    "With these modifications, the worst case of Quicksort has fewer chances to occur, but a worst case can still occur if the input array is such that the maximum (or minimum) element is always chosen as the pivot."
   ]
  },
  {
   "cell_type": "markdown",
   "metadata": {},
   "source": [
    "## Hoares | [Video](https://www.youtube.com/watch?v=NuQYFXmLUrM&ab_channel=BukanCaraCepat)\n",
    "\n",
    "1. Step 1:\n",
    "    - Assign the `pivot` as the middle element\n",
    "    - ```python\n",
    "        pivot = a[right // 2]\n",
    "      ```\n",
    "    - `right` is the length of the window initially.\n",
    "2. Step 2:\n",
    "    - Iterate as long as the left & right pointers have NOT crossed swords.\n",
    "    - ```python\n",
    "        while left <= right:\n",
    "      ```\n",
    "3. Step 3:\n",
    "    - Check values on the left of the pivot...\n",
    "    - If the left value is less than the pivot, it means the pivot is in the right spot in relation to that left value, so move the left pointer forward\n",
    "    - ```python\n",
    "        if pivot > a[left]:\n",
    "            left += 1\n",
    "      ```\n",
    "4. Step 4:\n",
    "    - Check the values on the right of the pivot...\n",
    "    - Otherwise, we know we need to swap `a[left]` with some value right of the pivot, but we don't know which value `a[right]` until we find a value that's less than the pivot.\n",
    "    - ```python\n",
    "        elif pivot <= a[left]:\n",
    "            while pivot < a[right]:\n",
    "                right -= 1\n",
    "      ```\n",
    "    - The code above shows that we check the right value, and if it's greater than the pivot, then it's in the right spot in relation to the pivot, so move the right pointer back (to the left). Once we find a value that's less than the pivot, we know we can swap that value with the value at the left pointer.\n",
    "    - ```python\n",
    "        swap(a, left, right)\n",
    "        left += 1\n",
    "        right -= 1\n",
    "       ```\n",
    "5. Step 5:\n",
    "    - Verify that the value to the left of the pivot, is in fact less than the pivot. If not, make one last swap. This may occur because of the outter-most while loop.\n",
    "    - ```python\n",
    "        if pivot < a[right]:\n",
    "            swap(a, left, right)\n",
    "            return right\n",
    "        return left\n",
    "      ```\n",
    "    - Take note that `a[right]` in the above snippet is actually pointing to the value **left** of the pivot's index. We could right it more literally as ...\n",
    "    ```python\n",
    "        if pivot < a[left - 1]:\n",
    "            swap(a, left, left - 1)\n",
    "            return left - 1\n",
    "        return left\n",
    "    ```\n",
    "    but that's also a bit hard to read & think about."
   ]
  },
  {
   "cell_type": "code",
   "execution_count": 40,
   "metadata": {},
   "outputs": [
    {
     "name": "stdout",
     "output_type": "stream",
     "text": [
      "Swapping: 9 w/ 6\n",
      "Swapping: 7 w/ 2\n",
      "[3, 4, 6, 1, 2, 0, 5, 7, 9, 8]\n"
     ]
    }
   ],
   "source": [
    "def swap(a, l, r):\n",
    "    print(f'Swapping: {a[l]} w/ {a[r]}')\n",
    "    a[l], a[r] = a[r], a[l]\n",
    "\n",
    "def hoares_partition(a, left, right):\n",
    "    pivot = a[right // 2]\n",
    "    while left <= right:\n",
    "        if pivot > a[left]:\n",
    "            left += 1\n",
    "        elif pivot <= a[left]:\n",
    "            while pivot < a[right]:\n",
    "                right -= 1\n",
    "            swap(a, left, right)\n",
    "            left += 1\n",
    "            right -= 1\n",
    "    if pivot < a[right]:\n",
    "        swap(a, left, right)\n",
    "        return right\n",
    "    return left\n",
    "    # Performed 2 swaps & 7 is in final spot\n",
    "\n",
    "a = [3, 4, 9, 1, 7, 0, 5, 2, 6, 8]\n",
    "left = 0\n",
    "right = len(a) - 1\n",
    "hoares_partition(a, left, right)\n",
    "print(a)  # [3, 4, 6, 1, 2, 0, 5, 7, 9, 8]\n"
   ]
  },
  {
   "cell_type": "markdown",
   "metadata": {},
   "source": [
    "### Return the Index\n",
    "- The purpose of partition algorithms is to divide a set of information between upper & lower halfs. The pivot index, describes the index that divides the two halfs.\n",
    "- In `QuickSort` we recursively call smaller and smaller half sizes to the left and right of the last pivot, to eventually sort an entire array.\n",
    "- In batching problems, where we want to find the top k batch of elements in a list, we can use the partition algo, to divide the elements in size less than k, and gte to k size."
   ]
  },
  {
   "cell_type": "markdown",
   "metadata": {},
   "source": [
    "# Practice Problems\n",
    "1. QuickSort\n",
    "2. LeetCode # 75. Sort Colors\n",
    "    - Dutch National Flag\n",
    "3. Top K Largest Elements\n"
   ]
  },
  {
   "cell_type": "markdown",
   "metadata": {},
   "source": [
    "#### QuickSort\n",
    "- Shown are both partitions\n",
    "- I chose `hoares` as i think it's the easiest to read, and the most terse."
   ]
  },
  {
   "cell_type": "code",
   "execution_count": 41,
   "metadata": {},
   "outputs": [
    {
     "data": {
      "text/plain": [
       "[0, 1, 2, 3, 4, 5, 6, 7, 8, 9]"
      ]
     },
     "execution_count": 41,
     "metadata": {},
     "output_type": "execute_result"
    }
   ],
   "source": [
    "import random\n",
    "\n",
    "def swap(a, l, r):\n",
    "    a[l], a[r] = a[r], a[l]\n",
    "\n",
    "def lomutos_partition(a, left, right):\n",
    "    r = random.randint(left, right)\n",
    "    swap(a, r, right)\n",
    "    i, pivot = 0, a[right]\n",
    "    for j in range(right):\n",
    "        if a[j] <= pivot:\n",
    "            if j > i: swap(a, i, j)\n",
    "            i += 1\n",
    "    swap(a, right, i)\n",
    "    return i\n",
    "\n",
    "def hoares_partition(a, left, right):\n",
    "    pivot = a[left]\n",
    "    while left < right:\n",
    "        while a[left] < pivot: left += 1\n",
    "        while a[right] > pivot: right -= 1\n",
    "        swap(a, left, right)\n",
    "    return right\n",
    "\n",
    "def quick_sort(arr, start=None, end=None):\n",
    "    if start is None and end is None:\n",
    "        start, end = 0, len(arr) - 1\n",
    "    if start < end:\n",
    "       pivot = hoares_partition(arr, start, end)\n",
    "       quick_sort(arr, start, pivot - 1)\n",
    "       quick_sort(arr, pivot + 1, end)\n",
    "    return arr\n",
    "\n",
    "quick_sort([0, 6, 1, 4, 2, 3, 5, 7, 9, 8])"
   ]
  },
  {
   "cell_type": "markdown",
   "metadata": {},
   "source": [
    "#### Dutch National Flag\n",
    "1. The solution doesn't explicitly use either Hoare's or Lomuto's verbatim, however we can use the idea of Hoares partition which turns out to be rather straightforward.\n",
    "2. We keep 3 pointers to subdivide the region of the input into three chunks. Exactly like Hoare's algorithm, which subdivides into `left` and `right`.\n",
    "3. We let the middle section `igreen` be the main pointer. This is a distinct difference in the QuickSort implementation. We use the `igreen` pointer to compare to the adjacent values.\n",
    "4. Whenever the current element needs to be moves to the left, we swap it with the left-most green element, and then increment both pointers forward."
   ]
  },
  {
   "cell_type": "code",
   "execution_count": 43,
   "metadata": {},
   "outputs": [
    {
     "data": {
      "text/plain": [
       "['R', 'R', 'G', 'G', 'G', 'G', 'B', 'B']"
      ]
     },
     "execution_count": 43,
     "metadata": {},
     "output_type": "execute_result"
    }
   ],
   "source": [
    "def swap(a, l, r):\n",
    "    a[l], a[r] = a[r], a[l]\n",
    "\n",
    "def dutch_flag_sort(balls):\n",
    "    red, green, blue = 'R', 'G', 'B'\n",
    "    ired, igreen, iblue = 0, 0, len(balls) - 1\n",
    "    while igreen <= iblue:\n",
    "        if balls[igreen] == red:\n",
    "            swap(balls, igreen, ired)\n",
    "            ired += 1\n",
    "            igreen += 1\n",
    "        elif balls[igreen] == green:\n",
    "            igreen += 1\n",
    "        elif balls[igreen] == blue:\n",
    "            swap(balls, igreen, iblue)\n",
    "            iblue -= 1\n",
    "    return balls\n",
    "\n",
    "dutch_flag_sort([\"G\", \"B\", \"G\", \"G\", \"R\", \"B\", \"R\", \"G\"])"
   ]
  },
  {
   "cell_type": "markdown",
   "metadata": {},
   "source": [
    "#### Top K Largest Elements\n",
    "- In quicksort, we pick a pivot element and rearrange the array around it such that the pivot element comes at its correct position, all the elements less than or equal to the pivot move to its left and all the elements greater than the pivot move to its right. We perform this operation till all the elements in the array get sorted.\n",
    "- But note that, here we do not have to sort the elements based on their values, rather we have to sort all the unique elements present in the array based on their frequencies. So, any two elements **will be compared based on their frequencies and not on their values**.\n",
    "- We will first store the frequencies of all the distinct elements present in the array in a hashmap and using this hashmap, we will build an array of unique elements present in the array. Let us call this array `unique`.\n",
    "- Note that we do not actually need to sort `unique` completely. We only need the top `k` most frequent elements. So if after partition, pivot ends up at the index unique_size - `k`, then two things are guaranteed:\n",
    "    1. The pivot element is at its correct position\n",
    "    2. All the elements on the right of the pivot have frequencies greater than the pivot.\n",
    "- So the pivot element along with all elements on its right are the top `k` most frequent elements. So, we repeat until the partitioning gets us the `k`-th most frequent elements. If the pivot does not end up at index `unique_size - k`, we may have two more possibilities as follows:\n",
    "    - `pivot_index > unique_size - k`: In this case, the frequency of the `k`-th most frequent element will be less than or equal to that of the pivot element. Since all the elements with frequency less than or equal to the frequency of the pivot element lie towards the left of it, we will discard the right subarray and recurse through the left subarray.\n",
    "    - `pivot_index < unique_size - k`: In this case, the frequency of the `k`-th most frequent element will be greater than that of the pivot element. Since all the elements with a frequency greater than the frequency of the pivot element lie towards the right of it, we will discard the left subarray and recurse through the right subarray.\n",
    "We will perform the above steps till the pivot ends up at index `unique_size - k`.\n",
    "- We will use **Lomuto's algorithm** to partition the array. Lomuto's partitioning algorithm picks a random element from the array and partitions the array around it.\n",
    "- **Time Complexity**\n",
    "    - O(n2).\n",
    "    - This algorithm will have a worst-case time complexity of O(n2). For example, if all of the elements in the array are unique and we have k = n, then the pivot_index will always end up at a value equal to high. Therefore in this case, our solution will perform the partitioning O(n) number of times. Since a single partitioning process takes O(n) amount of time, the overall worst-case time complexity will become equal to O(n2)."
   ]
  },
  {
   "cell_type": "code",
   "execution_count": 52,
   "metadata": {},
   "outputs": [
    {
     "data": {
      "text/plain": [
       "[1, 2, 4]"
      ]
     },
     "execution_count": 52,
     "metadata": {},
     "output_type": "execute_result"
    }
   ],
   "source": [
    "from collections import Counter\n",
    "import random\n",
    "\n",
    "def swap(arr, l, r):\n",
    "    arr[l], arr[r] = arr[r], arr[l]\n",
    "\n",
    "def partition(arr, low, high, freq):\n",
    "    random_pivot = random.randint(low, high) % (high - low + 1) + low\n",
    "    pivot_freq = freq.get(arr[random_pivot])\n",
    "    swap(arr, random_pivot, high)\n",
    "    i = low\n",
    "    for j in range(low, high - 1):\n",
    "        if freq[arr[j]] <= pivot_freq:\n",
    "            swap(arr, i, j)\n",
    "            i += 1\n",
    "    swap(arr, i, high)\n",
    "    return i\n",
    "\n",
    "def quick_select(arr, k, freq):\n",
    "    low, high = 0, len(arr) - 1\n",
    "    while low <= high:\n",
    "        pivot = partition(arr, low, high, freq)\n",
    "        if pivot == len(arr) - k:\n",
    "            return\n",
    "        if pivot > len(arr) - k:\n",
    "            high = pivot - 1\n",
    "        else:\n",
    "            low = pivot + 1\n",
    "\n",
    "def k_largest(arr, k):\n",
    "    freq = Counter(arr)\n",
    "    unique = list(set(freq.keys()))\n",
    "    quick_select(unique, k, freq)\n",
    "    result = []\n",
    "    for i in range(len(unique) - k, -1, -1):\n",
    "        result.append(unique[i])\n",
    "    return result\n",
    "\n",
    "\n",
    "k_largest([1, 2, 3, 2, 4, 3, 1], 2)\n"
   ]
  },
  {
   "cell_type": "code",
   "execution_count": 46,
   "metadata": {},
   "outputs": [
    {
     "data": {
      "text/plain": [
       "[1, 2]"
      ]
     },
     "execution_count": 46,
     "metadata": {},
     "output_type": "execute_result"
    }
   ],
   "source": [
    "from collections import Counter\n",
    "\n",
    "def k_largest_elements(arr, k):\n",
    "    freq = sorted(Counter(arr).items(), key=lambda item: item[1], reverse=True)\n",
    "    k_largest = freq[0: k]\n",
    "    return [num for num, freq in k_largest]\n",
    "\n",
    "k_largest_elements([1, 2, 3, 2, 4, 3, 1], 2)\n"
   ]
  }
 ],
 "metadata": {
  "kernelspec": {
   "display_name": "Python 3.8.9 ('env': venv)",
   "language": "python",
   "name": "python3"
  },
  "language_info": {
   "codemirror_mode": {
    "name": "ipython",
    "version": 3
   },
   "file_extension": ".py",
   "mimetype": "text/x-python",
   "name": "python",
   "nbconvert_exporter": "python",
   "pygments_lexer": "ipython3",
   "version": "3.8.9"
  },
  "orig_nbformat": 4,
  "vscode": {
   "interpreter": {
    "hash": "7567341d4109f7d7c109ca0cef11eb54bdf88081d7a72c6faa88d24a2db59b1f"
   }
  }
 },
 "nbformat": 4,
 "nbformat_minor": 2
}
