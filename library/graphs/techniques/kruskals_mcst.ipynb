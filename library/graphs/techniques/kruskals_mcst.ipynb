{
 "cells": [
  {
   "cell_type": "markdown",
   "metadata": {},
   "source": [
    "# Kruskals Minimum Spanning Tree (MST)\n",
    "\n",
    "## Literature\n",
    "\n",
    "[Competitive Programming Algorithms: Disjoint Set Union](https://cp-algorithms.com/data_structures/disjoint_set_union.html#applications-and-various-improvements)\n",
    "\n",
    "## Video Explanation\n",
    "\n",
    "[Abdul Bari on Kruskals Algorithm](https://www.youtube.com/watch?v=4ZlRH0eK-qQ&t=939s&ab_channel=AbdulBari)\n",
    "\n",
    "## DataStructure & Algorithm Template\n"
   ]
  },
  {
   "cell_type": "code",
   "execution_count": null,
   "metadata": {},
   "outputs": [],
   "source": [
    "class DSU:\n",
    "    def __init__(self):\n",
    "        self.parents = []\n",
    "        self.ranks = []\n",
    "\n",
    "    def find(self, v):\n",
    "        if v == self.parents[v]:\n",
    "            return self.parents[v]\n",
    "        self.parents[v] = self.find(self.parents[v])  # compression enabled\n",
    "        return self.parents[v]\n",
    "\n",
    "    def make_set(self, v):\n",
    "        self.parents[v] = v\n",
    "        self.ranks[v] = 0\n",
    "\n",
    "    def union_by_rank(self, v1, v2):\n",
    "        p1 = self.parents[v1]\n",
    "        p2 = self.parents[v2]\n",
    "        if p1 != p2:\n",
    "            if self.ranks[p1] < self.ranks[p2]:\n",
    "                p1, p2 = p2, p1\n",
    "            self.parents[p2] = p1\n",
    "            if self.ranks[p1] == self.ranks[p2]:\n",
    "                self.ranks[p2] += 1\n",
    "\n",
    "\n",
    "def kruskals_mst(n, edges):\n",
    "    dsu, cost, results = DSU(), 0, []\n",
    "    for i in range(n):  # make sets for each vertice\n",
    "        dsu.make_set(i)\n",
    "    edges.sort(key=lambda e: e[2])  # sort by weight (ascending)\n",
    "    for i, u, v, weight in enumerate(\n",
    "        edges\n",
    "    ):  # analyze each edge. Make union where edges are not already connected\n",
    "        if dsu.find(u) != dsu.find(v):  # find(): compression enabled = O(log(n))\n",
    "            cost += weight\n",
    "            results.append(edges[i])\n",
    "            dsu.union_by_rank(u, v)  # union_by_rank(): O(1)"
   ]
  },
  {
   "cell_type": "markdown",
   "metadata": {},
   "source": [
    "---\n",
    "\n",
    "## Problems\n",
    "\n",
    "- [Sum of Cost](https://www.spoj.com/problems/KOICOST/)\n",
    "- [Max Speed on Road](https://www.spoj.com/problems/MARYBMW/)\n",
    "- [Min Difference between Values](https://www.codechef.com/ICL2016/problems/ICL16A)\n",
    "- [Travelling Knights](https://uva.onlinejudge.org/index.php?option=com_onlinejudge&Itemid=8&page=show_problem&problem=3328)\n",
    "- [ACM Contest & Blackout](https://uva.onlinejudge.org/index.php?option=com_onlinejudge&Itemid=8&page=show_problem&problem=1541)\n",
    "- [Road Construction](https://uva.onlinejudge.org/index.php?option=onlinejudge&page=show_problem&problem=1665)\n",
    "- [Killing Aliens in Borg Maze](https://uva.onlinejudge.org/index.php?option=com_onlinejudge&Itemid=8&page=show_problem&problem=1248)\n",
    "- [Anti Brute Force Lock](https://uva.onlinejudge.org/index.php?option=com_onlinejudge&Itemid=8&page=show_problem&problem=3676)\n",
    "\n",
    "## Info\n",
    "\n",
    "The problems selected to especially utilize Kruskals MST algorithm. The implementation details are utilizing a DSU data structure to minmize the run-time to\n",
    "`Big-Oh(m log(n))` from `Big-Oh(m log(n) + n^2)`, where `n^2` is the total number of Edges `|E|` multiplied by the total number of Vertices `|V|` = `O(|V|*|E|) ~ O(n^2)`. The `m log(n)` time is from using a **Min-Heap** where the `heapify()` function has to perform `log(n)` inserts, `m` times. Using a DSU, we can consolidate the runtime to only `m log(n)` where `log(n)` is the worst case of looking finding the parent of a given node and `m` is the total number of times we expect to perform the operation. It should be again mentioned that using **Path Compression** often times the `log(n)` runtime is shrunken down even more to `O(1)` time since the degree of seperation from any child node to their parent will eventually become a degree of 1.\n"
   ]
  }
 ],
 "metadata": {
  "kernelspec": {
   "display_name": "Python 3.8.9 ('env': venv)",
   "language": "python",
   "name": "python3"
  },
  "language_info": {
   "name": "python",
   "version": "3.8.9"
  },
  "orig_nbformat": 4,
  "vscode": {
   "interpreter": {
    "hash": "7567341d4109f7d7c109ca0cef11eb54bdf88081d7a72c6faa88d24a2db59b1f"
   }
  }
 },
 "nbformat": 4,
 "nbformat_minor": 2
}
