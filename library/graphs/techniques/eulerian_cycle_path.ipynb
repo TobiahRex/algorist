{
 "cells": [
  {
   "cell_type": "markdown",
   "metadata": {},
   "source": [
    "# Eulerian Cycle & Path\n",
    "\n",
    "## Key Terms\n",
    "\n",
    "1. **Eulerian Path**: _A path that starts at one node and ends at a different node, where all edges have been visited exactly once. Each Node has exactly an even number of edges. Or, there exists exactly 2 nodes with odd number of edges. If a graph has only even number of edges, then a more correct definition is to label the graph as having an **Eulerian Cycle** (also \"Circuit\"). An \"Eulerian Path\" is a superset of an \"Eulerian Cycle\"._\n",
    "2. **Eulerian Cycle/Circuit**: _A path that starts at one node and ends at the **same** node. Every node in the graph has an even number of edges, with no node having an odd number of edges. Also, all the edges in the graph are in a single connected component. An \"Eulerian Cycle\" is a sub-set of an \"Eulerian Path_\n",
    "3. **Eulerian Graph**: _A graph that has an **Eulerian Cycle**_.\n"
   ]
  },
  {
   "cell_type": "markdown",
   "metadata": {},
   "source": [
    "## Problem 1: Detect an \"Eulerian Cycle\"\n",
    "\n",
    "1. Every node has even # of edges\n",
    "2. Every node with an edge is visited.\n",
    "3. If an unvisited edge exists, it must be in a disconnected component: having no edges.\n",
    "   **NOTE**: The strategy is different between Directed Graph & Undirected Graph but similar.\n"
   ]
  },
  {
   "cell_type": "code",
   "execution_count": null,
   "metadata": {},
   "outputs": [],
   "source": [
    "def check_if_eulerian_cycle_exists(n, edges):\n",
    "    \"\"\"\n",
    "    Args:\n",
    "     n(int32)\n",
    "     edges(list_list_int32)\n",
    "    Returns:\n",
    "     bool\n",
    "    \"\"\"\n",
    "    if not edges:\n",
    "        return True\n",
    "    adjacency_list = build_graph(edges)\n",
    "    if not euler_cycle_possible(adjacency_list):\n",
    "        return False\n",
    "    visited = dfs(adjacency_list)\n",
    "    if has_euler_cycle(adjacency_list, visited):\n",
    "        return True\n",
    "    return False\n",
    "\n",
    "\n",
    "def has_euler_cycle(adj, visited):\n",
    "    unvisited = visited - set(adj.keys())\n",
    "    if len(unvisited) == 0:\n",
    "        return True\n",
    "    for node in unvisited:\n",
    "        if adj.get(node):\n",
    "            return False\n",
    "    return True\n",
    "\n",
    "\n",
    "def dfs(adj):\n",
    "    first_node = next(iter(adj))\n",
    "    stack = set([first_node])\n",
    "    visited = set()\n",
    "    while stack:\n",
    "        node = stack.pop()\n",
    "        visited.add(node)\n",
    "        children = adj.get(node)\n",
    "        [stack.add(child) for child in children if child not in visited]\n",
    "    return visited\n",
    "\n",
    "\n",
    "def euler_cycle_possible(adj):\n",
    "    odds = 0\n",
    "    for targets in adj.values():\n",
    "        if len(targets) & 1:\n",
    "            odds += 1\n",
    "    return odds == 0\n",
    "\n",
    "\n",
    "def euler_path_possible(adj):\n",
    "    odds = 0\n",
    "    for targets in adj.values():\n",
    "        if len(targets) & 1:\n",
    "            odds += 1\n",
    "    return odds in [0, 2]\n",
    "\n",
    "\n",
    "def build_graph(edges):\n",
    "    adjacency_list = {}\n",
    "    for start, end in edges:\n",
    "        add_edge(adjacency_list, start, end)\n",
    "        add_edge(adjacency_list, end, start)\n",
    "    return adjacency_list\n",
    "\n",
    "\n",
    "def add_edge(adj, n1, n2):\n",
    "    if n1 not in adj:\n",
    "        adj[n1] = set([n2])\n",
    "    else:\n",
    "        adj[n1].add(n2)"
   ]
  },
  {
   "cell_type": "markdown",
   "metadata": {},
   "source": [
    "The above solution will work, but we actually **Dont** need to iterate with DFS or build a graph 😂. Instead we simply need to check the edge relationships, and ensure that there's never an odd number of edges for a particular node.\n",
    "\n",
    "To start we simply build a catalogue of nodes corresponding to the # of edges in the graph.\n",
    "\n",
    "Lastly, we then simply evaluate each edge count and make sure none of them are odd.\n"
   ]
  },
  {
   "cell_type": "code",
   "execution_count": null,
   "metadata": {},
   "outputs": [],
   "source": [
    "def OPTIMAL_check_if_eulerian_cycle_exists(n, edges):\n",
    "    e_count = [0] * n\n",
    "    for i, j in edges:\n",
    "        e_count[i] += 1\n",
    "        e_count[j] += 1\n",
    "    for o in e_count:\n",
    "        if o & 1:  # Bitwise operator - last bit will be 1 if odd (2^0) == 1\n",
    "            return False\n",
    "    return True"
   ]
  },
  {
   "cell_type": "markdown",
   "metadata": {},
   "source": [
    "## Problem 2: Detect an Eulerian-Path\n",
    "\n",
    "1. If there exists exactly 2 nodes, or 0 nodes with an odd number of edges.\n",
    "2. If all edges have been visited in a single connected-component.\n",
    "3. Any unvisited nodes, have no edges (same as #2 said differently).\n",
    "\n",
    "If all the above statements are _True_ then an \"Eulerian Path\" exists.\n",
    "\n",
    "Using the optimal solution from the Problem 1, we can adapt it as follows.\n",
    "\n",
    "**NOTE** Recall that \"Eulerian-Path\" is a superset of \"Eulerian-Cycle\", which means, that an Eulerian-Path may exist simultaneously with an \"Eulerian-Cycle\".\n"
   ]
  },
  {
   "cell_type": "code",
   "execution_count": null,
   "metadata": {},
   "outputs": [],
   "source": [
    "def OPTIMAL_check_if_eulerian_path_exists(n, edges):\n",
    "    e_count = [0] * n\n",
    "    for i, j in edges:\n",
    "        e_count[i] += 1\n",
    "        e_count[j] += 1\n",
    "    odds = 0\n",
    "    for o in e_count:\n",
    "        if o & 1:  # Bitwise operator - last bit will be 1 if odd (2^0) == 1\n",
    "            odds += 1\n",
    "    return odds in [0, 2]"
   ]
  }
 ],
 "metadata": {
  "kernelspec": {
   "display_name": "Python 3.8.9 ('env': venv)",
   "language": "python",
   "name": "python3"
  },
  "language_info": {
   "name": "python",
   "version": "3.8.9"
  },
  "orig_nbformat": 4,
  "vscode": {
   "interpreter": {
    "hash": "7567341d4109f7d7c109ca0cef11eb54bdf88081d7a72c6faa88d24a2db59b1f"
   }
  }
 },
 "nbformat": 4,
 "nbformat_minor": 2
}
