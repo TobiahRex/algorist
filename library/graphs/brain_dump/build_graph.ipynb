{
 "cells": [
  {
   "cell_type": "markdown",
   "metadata": {},
   "source": [
    "# Building Graphs\n",
    "\n",
    "#### Adjacency Map\n",
    "- Given the total number of nodes and an edge list, this technique is quite fast.\n",
    "- NOTE: We're potentially adding more key's than are necessary to the map, since not every node may have an out-degree edge. Although this will safe conditional logic later to check if a node is in the adjacency map, and if it is, then iterate over it's neighbors.\n",
    "\n",
    "**Pros**\n",
    "1. Space efficient\n",
    "2. Good for simply getting the neighbors of a node\n",
    "3. Easy to implement\n",
    "4. If edges have weights, then we could modify the list values to be tuples `[(value, edge-weight), (value, edge-weight), ...]`\n",
    "\n",
    "**Cons**\n",
    "1. If we're mutating the graph by deleting edges, then it takes O(m) time to remove the edge. This can be optimized however if we store neighbors as a set rather than a list."
   ]
  },
  {
   "cell_type": "code",
   "execution_count": null,
   "metadata": {},
   "outputs": [],
   "source": [
    "def adjacency_map(n, edges):\n",
    "    g = {i: set() for i in range(n)}\n",
    "\n",
    "    # directed graph\n",
    "    for u, v in edges:\n",
    "        g[u].add(v)\n",
    "\n",
    "    # undirected graph\n",
    "    for u, v in edges:\n",
    "        g[u].add(v)\n",
    "        g[v].add(u)\n",
    "    return g"
   ]
  },
  {
   "cell_type": "markdown",
   "metadata": {},
   "source": [
    "#### Adjacency Matrix\n",
    "- Given number of nodes, and the edge list, we save the mapping from `u` to `v` in a 2D table.\n",
    "\n",
    "**Pros**\n",
    "1. Removes edges in constant time.\n",
    "2. Easy to implement\n",
    "3. If edges have weights, the cell value can be a weight rather than a 1.\n",
    "\n",
    "**Cons**\n",
    "1. Space In-efficient: There may be many `0` values indicating no edge. If there's some info explaining this density, then we may or may not opt for a matrix."
   ]
  },
  {
   "cell_type": "code",
   "execution_count": null,
   "metadata": {},
   "outputs": [],
   "source": [
    "def adjacency_matrix(n, edges):\n",
    "    g = [[0]*n for _ in range(n)]\n",
    "\n",
    "    # directed graph\n",
    "    for u, v in edges:\n",
    "        g[u][v] = 1\n",
    "\n",
    "    # undirected graph\n",
    "    for u, v in edges:\n",
    "        g[u][v] = 1\n",
    "        g[v][u] = 1\n",
    "    return g"
   ]
  }
 ],
 "metadata": {
  "kernelspec": {
   "display_name": "Python 3.8.9 ('env': venv)",
   "language": "python",
   "name": "python3"
  },
  "language_info": {
   "name": "python",
   "version": "3.8.9"
  },
  "orig_nbformat": 4,
  "vscode": {
   "interpreter": {
    "hash": "7567341d4109f7d7c109ca0cef11eb54bdf88081d7a72c6faa88d24a2db59b1f"
   }
  }
 },
 "nbformat": 4,
 "nbformat_minor": 2
}
