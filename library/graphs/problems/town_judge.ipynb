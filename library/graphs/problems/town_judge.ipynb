{
 "cells": [
  {
   "cell_type": "markdown",
   "metadata": {},
   "source": [
    "# Town Judge\n",
    "\n",
    "## Problem\n",
    "\n",
    "Find the judge among a group of people in a town.\n",
    "\n",
    "If the town judge exists, then:\n",
    "\n",
    "The town judge trusts nobody.\n",
    "Everybody (except for the town judge) trusts the town judge.\n",
    "\n",
    "## Strategy\n",
    "\n",
    "At first i thought it was a topological sort problem, but later i realized that it's more like a\n"
   ]
  },
  {
   "cell_type": "code",
   "execution_count": 1,
   "metadata": {},
   "outputs": [
    {
     "name": "stdout",
     "output_type": "stream",
     "text": [
      "judge:  -1\n"
     ]
    }
   ],
   "source": [
    "def find_town_judge(n, trust):\n",
    "    if n == 2:\n",
    "        return trust[0][1]\n",
    "    g = build_graph(n, trust)\n",
    "    state = {\"max_in\": 0, \"zero_out\": -1, \"visited\": [0] * (n + 1)}\n",
    "    for i in g.keys():\n",
    "        if not state[\"visited\"][i]:\n",
    "            bfs(g, i, state)\n",
    "    judge = state.get(\"zero_out\")\n",
    "    if state.get(\"max_in\") == (n - 1) and judge != -1:\n",
    "        return judge\n",
    "    return -1\n",
    "\n",
    "\n",
    "def bfs(g, start_node, state):\n",
    "    stack = [start_node]\n",
    "    while stack:\n",
    "        node = stack.pop()\n",
    "        if not g.get(node):\n",
    "            state[\"zero_out\"] = node\n",
    "        for n in g.get(node):\n",
    "            if not state[\"visited\"][n]:\n",
    "                stack.append(n)\n",
    "                state[\"visited\"][n] += 1\n",
    "            else:\n",
    "                state[\"visited\"][n] += 1\n",
    "                state[\"max_in\"] = max(state.get(\"max_in\"), state[\"visited\"][n])\n",
    "\n",
    "\n",
    "def build_graph(n, edges):\n",
    "    g = {i + 1: [] for i in range(n)}\n",
    "    for src, trgt in edges:\n",
    "        g[src].append(trgt)\n",
    "    return g\n",
    "\n",
    "\n",
    "if __name__ == \"__main__\":\n",
    "    args = {\"n\": 3, \"trust\": [[1, 2], [2, 3], [3, 1], [3, 2]]}\n",
    "    print(\"judge: \", find_town_judge(*args.values()))"
   ]
  }
 ],
 "metadata": {
  "kernelspec": {
   "display_name": "Python 3.8.9 ('env': venv)",
   "language": "python",
   "name": "python3"
  },
  "language_info": {
   "codemirror_mode": {
    "name": "ipython",
    "version": 3
   },
   "file_extension": ".py",
   "mimetype": "text/x-python",
   "name": "python",
   "nbconvert_exporter": "python",
   "pygments_lexer": "ipython3",
   "version": "3.8.9"
  },
  "orig_nbformat": 4,
  "vscode": {
   "interpreter": {
    "hash": "7567341d4109f7d7c109ca0cef11eb54bdf88081d7a72c6faa88d24a2db59b1f"
   }
  }
 },
 "nbformat": 4,
 "nbformat_minor": 2
}
