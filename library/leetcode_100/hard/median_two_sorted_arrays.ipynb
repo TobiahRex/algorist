{
 "cells": [
  {
   "cell_type": "code",
   "execution_count": null,
   "metadata": {},
   "outputs": [],
   "source": [
    "from typing import List\n",
    "\n",
    "# Time Complexity: O(2*n) ~ O(n)\n",
    "# Space Complexity: O(2*n) ~ O(n)\n",
    "class Solution:\n",
    "    def findMedianSortedArrays(self, nums1: List[int], nums2: List[int]) -> float:\n",
    "        total_size = len(nums1) + len(nums2)\n",
    "        middle_ix = total_size // 2\n",
    "        # Merge lists up to half-way point.\n",
    "        aux, i, j = [], 0, 0\n",
    "        while i < len(nums1) and j < len(nums2) and len(aux) < middle_ix + 1:\n",
    "            if nums1[i] <= nums2[j]:\n",
    "                aux.append(nums1[i])\n",
    "                i += 1\n",
    "            else:\n",
    "                aux.append(nums2[j])\n",
    "                j += 1\n",
    "        if len(aux) < middle_ix + 1:\n",
    "            if i < len(nums1):\n",
    "                aux += nums1[i:]\n",
    "            if j < len(nums2):\n",
    "                aux += nums2[j:]\n",
    "        # return answer based on list length\n",
    "        if total_size % 2 == 0:\n",
    "            return (aux[middle_ix-1] + aux[middle_ix]) / 2\n",
    "        return aux[middle_ix]\n"
   ]
  }
 ],
 "metadata": {
  "kernelspec": {
   "display_name": "Python 3.8.9 ('env': venv)",
   "language": "python",
   "name": "python3"
  },
  "language_info": {
   "name": "python",
   "version": "3.8.9"
  },
  "orig_nbformat": 4,
  "vscode": {
   "interpreter": {
    "hash": "7567341d4109f7d7c109ca0cef11eb54bdf88081d7a72c6faa88d24a2db59b1f"
   }
  }
 },
 "nbformat": 4,
 "nbformat_minor": 2
}
