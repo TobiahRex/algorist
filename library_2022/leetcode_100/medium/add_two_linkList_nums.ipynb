{
 "cells": [
  {
   "cell_type": "markdown",
   "metadata": {},
   "source": [
    "### LC: 4: Add two Linked List of Nums\n",
    "You are given two non-empty linked lists representing two non-negative integers. The digits are stored in reverse order, and each of their nodes contains a single digit. Add the two numbers and return the sum as a linked list.\n",
    "\n",
    "You may assume the two numbers do not contain any leading zero, except the number 0 itself.\n",
    "\n",
    "```\n",
    "Input: l1 = [2,4,3], l2 = [5,6,4]\n",
    "Output: [7,0,8]\n",
    "Explanation: 342 + 465 = 807.\n",
    "Example 2:\n",
    "\n",
    "Input: l1 = [0], l2 = [0]\n",
    "Output: [0]\n",
    "Example 3:\n",
    "\n",
    "Input: l1 = [9,9,9,9,9,9,9], l2 = [9,9,9,9]\n",
    "Output: [8,9,9,9,0,0,0,1]\n",
    "```\n",
    "\n",
    "## Solution Approach\n",
    "1. Recursively add.\n",
    "2. Imagine two parallel lines of people. Each person is holding a number.\n",
    "3. We need to create a third line of people the combines the two lines together.\n",
    "4. We can start with the first node being Empty, in order to make a recursive answer fairly simple & straight forward.\n",
    "5. There's only really three scenarios we should consider\n",
    "    1. if total == 10\n",
    "        - the current node value should be the 0 in `10` and we'll carry the `1` in 10 forward\n",
    "    2. if total > 10\n",
    "        - the current node value should be the remainder after `n % 10` and we carry the one forward.\n",
    "    3. if total < 10\n",
    "        - the current node value is the total"
   ]
  },
  {
   "cell_type": "code",
   "execution_count": null,
   "metadata": {},
   "outputs": [],
   "source": [
    "class ListNode:\n",
    "    def __init__(self, val=0):\n",
    "        self.val = val"
   ]
  },
  {
   "cell_type": "code",
   "execution_count": null,
   "metadata": {},
   "outputs": [],
   "source": [
    "from typing import Optional\n",
    "\n",
    "class Solution:\n",
    "    def addTwoNumbers(self, l1: Optional[ListNode], l2: Optional[ListNode]) -> Optional[ListNode]:\n",
    "        head = ListNode()\n",
    "        self.add(l1, l2, 0, head)\n",
    "        return head.next\n",
    "\n",
    "    def add(self, l1, l2, r, output):\n",
    "        total = r\n",
    "        if l1 is None and l2 is None:\n",
    "            if r:\n",
    "                output.next = ListNode(val=r)\n",
    "            return\n",
    "        if l1:\n",
    "            total += l1.val\n",
    "            l1 = l1.next\n",
    "        if l2:\n",
    "            total += l2.val\n",
    "            l2 = l2.next\n",
    "        if total == 10:\n",
    "            output.next = ListNode(val=0)\n",
    "        elif total > 10:\n",
    "            output.next = ListNode(val=total - 10)\n",
    "        else:\n",
    "            output.next = ListNode(val=total)\n",
    "        self.add(l1, l2, 1 if total >= 10 else 0, output.next)\n"
   ]
  }
 ],
 "metadata": {
  "language_info": {
   "name": "python"
  },
  "orig_nbformat": 4
 },
 "nbformat": 4,
 "nbformat_minor": 2
}
