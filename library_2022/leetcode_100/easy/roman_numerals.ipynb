{
 "cells": [
  {
   "cell_type": "code",
   "execution_count": null,
   "metadata": {},
   "outputs": [],
   "source": [
    "# LeetCode solution\n",
    "values = {\n",
    "    \"I\": 1,\n",
    "    \"V\": 5,\n",
    "    \"X\": 10,\n",
    "    \"L\": 50,\n",
    "    \"C\": 100,\n",
    "    \"D\": 500,\n",
    "    \"M\": 1000,\n",
    "}\n",
    "\n",
    "\n",
    "class Solution:\n",
    "    def romanToInt(self, s: str) -> int:\n",
    "        total = 0\n",
    "        i = 0\n",
    "        while i < len(s):\n",
    "            if i + 1 < len(s) and values[s[i]] < values[s[i + 1]]:\n",
    "                total += values[s[i + 1]] - values[s[i]]\n",
    "                i += 2\n",
    "            else:\n",
    "                total += values[s[i]]\n",
    "                i += 1\n",
    "        return total\n",
    "\n",
    "Solution().romanToInt('999')"
   ]
  },
  {
   "cell_type": "code",
   "execution_count": null,
   "metadata": {},
   "outputs": [],
   "source": [
    "# My Solution\n",
    "class Solution:\n",
    "    numeral_map = {\n",
    "        'I': 1,\n",
    "        'V': 5,\n",
    "        'X': 10,\n",
    "        'L': 50,\n",
    "        'C': 100,\n",
    "        'D': 500,\n",
    "        'M': 1000,\n",
    "    }\n",
    "    def romanToInt(self, s: str) -> int:\n",
    "        answer = []\n",
    "        for v in list(s):\n",
    "            value = self.numeral_map.get(v)\n",
    "            if answer and value > answer[-1]:\n",
    "                value -= answer.pop()\n",
    "            answer.append(value)\n",
    "        return sum(answer)\n"
   ]
  }
 ],
 "metadata": {
  "kernelspec": {
   "display_name": "Python 3.8.9 ('env': venv)",
   "language": "python",
   "name": "python3"
  },
  "language_info": {
   "name": "python",
   "version": "3.8.9"
  },
  "orig_nbformat": 4,
  "vscode": {
   "interpreter": {
    "hash": "7567341d4109f7d7c109ca0cef11eb54bdf88081d7a72c6faa88d24a2db59b1f"
   }
  }
 },
 "nbformat": 4,
 "nbformat_minor": 2
}
