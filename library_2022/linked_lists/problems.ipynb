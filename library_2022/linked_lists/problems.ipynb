{
 "cells": [
  {
   "cell_type": "markdown",
   "metadata": {},
   "source": [
    "# LC.2 Add Two Numbers (Linked Lists) | `Medium`\n",
    "- You are given two non-empty linked lists representing two non-negative integers. The digits are stored in reverse order, and each of their nodes contains a single digit. Add the two numbers and return the sum as a linked list.\n",
    "- You may assume the two numbers do not contain any leading zero, except the number 0 itself.\n",
    "- <img src=\"https://imgur.com/TtGcH6H.png\" style=\"max-width: 500px\">\n",
    "- ```python\n",
    "    Input: l1 = [2,4,3], l2 = [5,6,4]\n",
    "    Output: [7,0,8]\n",
    "    Explanation: 342 + 465 = 807.\n",
    "  ```\n",
    "- ```python\n",
    "  Input: l1 = [9,9,9,9,9,9,9], l2 = [9,9,9,9]\n",
    "  Output: [8,9,9,9,0,0,0,1]\n",
    "  ```"
   ]
  },
  {
   "cell_type": "code",
   "execution_count": null,
   "metadata": {},
   "outputs": [],
   "source": [
    "class ListNode:\n",
    "    def __init__(self, val=0, next=None):\n",
    "        self.next = next\n",
    "        self.val = val\n",
    "\n",
    "class Solution:\n",
    "    def addTwoNumbers(self, l1, l2):\n",
    "        head = ListNode()\n",
    "        self.add(l1, l2, 0, head)\n",
    "        return head.next\n",
    "\n",
    "    def add(self, l1, l2, r, output):\n",
    "        total = r\n",
    "        if l1 is None and l2 is None:\n",
    "            if r:\n",
    "                output.next = ListNode(val=r)\n",
    "            return\n",
    "        if l1:\n",
    "            total += l1.val\n",
    "            l1 = l1.next\n",
    "        if l2:\n",
    "            total += l2.val\n",
    "            l2 = l2.next\n",
    "        if total == 10:\n",
    "            output.next = ListNode(val=0)\n",
    "        elif total > 10:\n",
    "            output.next = ListNode(val=total - 10)\n",
    "        else:\n",
    "            output.next = ListNode(val=total)\n",
    "        self.add(l1, l2, 1 if total >= 10 else 0, output.next)\n"
   ]
  }
 ],
 "metadata": {
  "kernelspec": {
   "display_name": "Python 3.8.9 ('env': venv)",
   "language": "python",
   "name": "python3"
  },
  "language_info": {
   "name": "python",
   "version": "3.8.9"
  },
  "orig_nbformat": 4,
  "vscode": {
   "interpreter": {
    "hash": "7567341d4109f7d7c109ca0cef11eb54bdf88081d7a72c6faa88d24a2db59b1f"
   }
  }
 },
 "nbformat": 4,
 "nbformat_minor": 2
}
