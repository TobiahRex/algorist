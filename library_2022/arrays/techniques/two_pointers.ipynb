{
 "cells": [
  {
   "cell_type": "markdown",
   "metadata": {},
   "source": [
    "# Two Pointers\n",
    "\n",
    "These problems typically give an input that we demarcate in a strategic way to locate a desired location within the input using Two Pointers; left & right (i, j)\n",
    "\n",
    "## Problem Types\n",
    "\n",
    "- **Target Sum** : The two pointers equal the target sum. Sorting the input is a common strategy to deterministically predict where target locations exist.\n",
    "- **Remove Duplicates: In-Place**: The two pointers equal the current and next unique value. Sorting is NOT a required strategy, rather, we keep a global index, and we determine the next unique value given the two pointers. If the current value is unique, we update the global index with the current value. In order to know which Pointer to move/change, we choose the largest pointed value in hopes to find a smaller value.\n",
    "- **Max Sum**: The two pointers equal the maximum sum. Sorting is NOT a required strategy, rather, we keep a global maximum, and we determine the sum given the two pointers. If the current sum is larger, we update the global max with the current sum. In order to know which Pointer to move/change, we choose the smallest pointed value in hopes to find a larger value.\n",
    "- **Sum of Squares**: Given a positive integer n, determine if there exist two distinct integers a and b such that a^2 + b^2 = n.\n",
    "- **Max Difference with Order Constraint**: Given an array of integers arr, find the maximum value of arr[j] - arr[i], where i < j.\n",
    "\n",
    "---\n",
    "\n",
    "## Target Sum\n"
   ]
  },
  {
   "cell_type": "code",
   "execution_count": 3,
   "metadata": {},
   "outputs": [
    {
     "data": {
      "text/plain": [
       "[0, 2]"
      ]
     },
     "execution_count": 3,
     "metadata": {},
     "output_type": "execute_result"
    }
   ],
   "source": [
    "def pair_with_targetsum(arr, target_sum):\n",
    "    left, right = 0, len(arr) - 1\n",
    "    sum = 0\n",
    "    while 0 <= right and left < len(arr):\n",
    "        sum = arr[left] + arr[right]\n",
    "        if sum == target_sum:\n",
    "            break\n",
    "        elif sum < target_sum:\n",
    "            left += 1\n",
    "        else:\n",
    "            right -= 1\n",
    "    return [left, right]\n",
    "\n",
    "\n",
    "pair_with_targetsum([2, 5, 9, 11], 11)"
   ]
  },
  {
   "cell_type": "markdown",
   "metadata": {},
   "source": [
    "---\n",
    "\n",
    "## Remove Duplicates:\n",
    "\n",
    "Given a sorted array nums, remove the duplicates in-place such that each element appears only once and returns the new length.\n",
    "\n",
    "```shell\n",
    "FUNCTION remove_duplicates(list):\n",
    "    SET boundary_ptr TO the beginning of the list\n",
    "    SET scanning_ptr TO just after the main_ptr\n",
    "\n",
    "    WHILE scanning_ptr is within the bounds of the list:\n",
    "        IF value at main_ptr is NOT EQUAL TO value at scanning_ptr: # unique value: we want to keep \"capture\" it\n",
    "\n",
    "            MOVE main_ptr to the right by 1 # move the boundary to the right\n",
    "\n",
    "            IF main_ptr position is NOT EQUAL TO scanning_ptr position: # we're not sitting on top of each other\n",
    "                SWAP values at main_ptr and scanning_ptr # move the unique value into the boundary\n",
    "\n",
    "        MOVE scanning_ptr to the next position # continue looking to the right\n",
    "\n",
    "    RETURN a slice of the list from the beginning to (main_pointer + 1)\n",
    "\n",
    "```\n",
    "\n",
    "The algorithm effectively partitions the list into two parts: the first part is the unique elements, and the second part is the duplicate elements. The algorithm then returns the first part of the list.\n"
   ]
  },
  {
   "cell_type": "code",
   "execution_count": 2,
   "metadata": {},
   "outputs": [
    {
     "data": {
      "text/plain": [
       "[2, 11]"
      ]
     },
     "execution_count": 2,
     "metadata": {},
     "output_type": "execute_result"
    }
   ],
   "source": [
    "def remove_duplicates_in_place(arr):\n",
    "    boundry, scan = 0, 1\n",
    "\n",
    "    while scan < len(arr):\n",
    "        if arr[boundry] != arr[scan]:\n",
    "            boundry += 1\n",
    "            if boundry != scan:\n",
    "                arr[boundry], arr[scan] = arr[scan], arr[boundry]\n",
    "        scan += 1\n",
    "\n",
    "    return arr[0 : boundry + 1]\n",
    "\n",
    "\n",
    "remove_duplicates_in_place([2, 2, 2, 11])"
   ]
  },
  {
   "cell_type": "markdown",
   "metadata": {},
   "source": []
  },
  {
   "cell_type": "markdown",
   "metadata": {},
   "source": [
    "The `remove_duplicates` function is meant to remove duplicates from a sorted list. The list given is `[2, 2, 2, 11]`.\n",
    "\n",
    "The two pointers used are `start` and `end`.\n",
    "\n",
    "- `start` points to the place where we expect the next unique number to go.\n",
    "- `end` scans through the list looking for the next unique number.\n",
    "\n",
    "Let's visualize the process using an ASCII number line:\n",
    "\n",
    "1. Initial setup:\n",
    "\n",
    "```\n",
    "arr = [2, 2, 2, 11]\n",
    "\n",
    "start\n",
    "  |\n",
    "[2, 2, 2, 11]\n",
    "     |\n",
    "   end\n",
    "```\n",
    "\n",
    "2. First loop, `arr[start]` is `2` and `arr[end]` is also `2`, so we only move the `end` pointer:\n",
    "\n",
    "```\n",
    "arr = [2, 2, 2, 11]\n",
    "\n",
    "start\n",
    "  |\n",
    "[2, 2, 2, 11]\n",
    "          |\n",
    "        end\n",
    "```\n",
    "\n",
    "3. In the next iteration, `arr[start]` is `2` but `arr[end]` is `11`. We increase the `start` pointer and swap `arr[start]` with `arr[end]` (though in this case, they're already in the correct places):\n",
    "\n",
    "```\n",
    "arr = [2, 2, 2, 11]\n",
    "\n",
    "     start\n",
    "       |\n",
    "[2, 2, 2, 11]\n",
    "          |\n",
    "        end\n",
    "```\n",
    "\n",
    "4. We increase the `end` pointer, but it's now out of bounds, so the loop ends.\n",
    "\n",
    "```\n",
    "arr = [2, 2, 2, 11]\n",
    "\n",
    "     start\n",
    "       |\n",
    "[2, 2, 2, 11]\n",
    "             |\n",
    "           end\n",
    "```\n",
    "\n",
    "5. Finally, the function returns `arr[0 : start + 1]`, which results in `[2, 11]`.\n",
    "\n",
    "So, the final representation:\n",
    "\n",
    "```\n",
    "arr = [2, 11]\n",
    "\n",
    "start\n",
    "  |\n",
    "[2, 11]\n",
    "       |\n",
    "     end\n",
    "```\n",
    "\n",
    "Hence, the list after removing duplicates is `[2, 11]`.\n"
   ]
  },
  {
   "cell_type": "markdown",
   "metadata": {},
   "source": [
    "---\n",
    "\n",
    "# Max Difference with Order Constraint\n",
    "\n",
    "\n",
    "**Description:**  \n",
    "Given an array of integers `arr`, find the maximum value of `arr[j] - arr[i]`, where `i < j`.\n",
    "\n",
    "**Input:**  \n",
    "An array of integers, `arr`, where (2 ≤ |arr| ≤ 10^5).\n",
    "\n",
    "**Output:**  \n",
    "Return an integer representing the maximum difference with the order constraint.\n",
    "\n",
    "**Example:**  \n",
    "For `arr = [2, 3, 10, 6, 4, 8, 1]`, the maximum difference with the order constraint is 8 (10 - 2).\n",
    "\n",
    "---\n",
    "\n",
    "Note: These problems emphasize the use of the two-pointer technique, though there are various ways to approach them.\n",
    "\n",
    "```shell\n",
    "FUNCTION max_diff(NUMS):\n",
    "    IF the array has less than 2 elements, return 0 as no valid difference can be found\n",
    "\n",
    "    TRACK the minimum value seen so far\n",
    "    TRACK the maximum difference seen so far\n",
    "\n",
    "    FOR each NUM:\n",
    "        UPDATE the maximum difference by subtracting the current NUM from the current minimum value\n",
    "        UPDATE the minimum value seen so far by comparing the current NUM to the current minimum value\n",
    "\n",
    "    RETURN the maximum difference\n",
    "```\n"
   ]
  },
  {
   "cell_type": "code",
   "execution_count": 3,
   "metadata": {},
   "outputs": [
    {
     "name": "stdout",
     "output_type": "stream",
     "text": [
      "8\n"
     ]
    }
   ],
   "source": [
    "def max_difference(arr):\n",
    "    if len(arr) < 2:\n",
    "        return 0\n",
    "    min_value = arr[0]\n",
    "    max_diff = arr[1] - arr[0]\n",
    "    for num in arr[1:]:\n",
    "        max_diff = max(max_diff, num - min_value)\n",
    "        min_value = min(min_value, num)\n",
    "\n",
    "    return max_diff\n",
    "\n",
    "\n",
    "arr = [2, 3, 10, 6, 4, 8, 1]\n",
    "print(max_difference(arr))  # Expected output: 8 (10-2)"
   ]
  },
  {
   "cell_type": "markdown",
   "metadata": {},
   "source": [
    "Some intuition behind the algorithm:\n",
    "\n",
    "- The complimentary large number to the min number is implicitly tracked by the max difference\n",
    "- The problem tracks the lower and upper bounds of the array, and the max difference is the difference between the upper bound and the lower bound\n",
    "\n",
    "---\n",
    "\n",
    "### Sum of Squares\n",
    "\n",
    "Given a positive integer `n`, determine if there exist two distinct integers `a` and `b` such that `a^2 + b^2 = n`.\n",
    "\n",
    "**Solution using the Two-Pointer Technique:**\n",
    "\n",
    "To solve this, one can consider the fact that if `n` is the sum of squares of two numbers, then the maximum possible value for `a` or `b` is the integer square root of `n`.\n",
    "\n",
    "With that, we can initialize two pointers: `a` starting from `0` and `b` starting from the square root of `n`. Based on the sum of the squares of these pointers:\n",
    "\n",
    "- If `a^2 + b^2` is less than `n`, increment `a` (move left pointer to the right).\n",
    "- If `a^2 + b^2` is greater than `n`, decrement `b` (move right pointer to the left).\n",
    "- If `a^2 + b^2` equals `n`, we found our pair.\n",
    "\n",
    "Here's the solution:\n",
    "\n",
    "This solution uses the two-pointer technique effectively. As `a` increases, `b` decreases, so each number is considered at most once, leading to a linear time complexity in terms of the square root of `n`.\n"
   ]
  },
  {
   "cell_type": "code",
   "execution_count": 13,
   "metadata": {},
   "outputs": [
    {
     "name": "stdout",
     "output_type": "stream",
     "text": [
      "(3, 4)\n",
      "(1, 4)\n",
      "(2, 3)\n",
      "(1, 2)\n",
      "(-1, -1)\n",
      "(2, 2)\n",
      "(1, 3)\n",
      "(-1, -1)\n",
      "(-1, -1)\n"
     ]
    },
    {
     "data": {
      "text/plain": [
       "[None, None, None, None, None, None, None, None, None]"
      ]
     },
     "execution_count": 13,
     "metadata": {},
     "output_type": "execute_result"
    }
   ],
   "source": [
    "def sum_of_squares(n):\n",
    "    a = 1\n",
    "    b = int(n**0.5)\n",
    "\n",
    "    while a <= b:\n",
    "        current_sum = a * a + b * b\n",
    "\n",
    "        if current_sum == n:\n",
    "            return a, b\n",
    "        elif current_sum < n:\n",
    "            a += 1\n",
    "        else:\n",
    "            b -= 1\n",
    "\n",
    "    return (-1, -1)\n",
    "\n",
    "\n",
    "[print(sum_of_squares(n)) for n in [25, 17, 13, 5, 6, 8, 10, 12, 14]]\n",
    "# Expected output: True (since 1^2 + 2^2 = 5)"
   ]
  }
 ],
 "metadata": {
  "kernelspec": {
   "display_name": "Python 3.8.9 ('env': venv)",
   "language": "python",
   "name": "python3"
  },
  "language_info": {
   "codemirror_mode": {
    "name": "ipython",
    "version": 3
   },
   "file_extension": ".py",
   "mimetype": "text/x-python",
   "name": "python",
   "nbconvert_exporter": "python",
   "pygments_lexer": "ipython3",
   "version": "3.9.6"
  },
  "orig_nbformat": 4,
  "vscode": {
   "interpreter": {
    "hash": "7567341d4109f7d7c109ca0cef11eb54bdf88081d7a72c6faa88d24a2db59b1f"
   }
  }
 },
 "nbformat": 4,
 "nbformat_minor": 2
}
