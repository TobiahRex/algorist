{
 "cells": [
  {
   "cell_type": "markdown",
   "metadata": {},
   "source": [
    "# DP for Coding Interviews: Practice Problems\n",
    "\n",
    "---\n",
    "\n",
    "## Problem 1: **Edit Distance**\n",
    "\n",
    "- Problem:\n",
    "  - The words `COMPUTER` and `COMMUTER` are very similar and an **update** of just one letter, `P`->`M` will change the first word into the second. Similarly, word `SPORT` can be changed into `SORT` by **deleting** one character, `P`, or equalty `SORT` can be changed into `SPORT` by **inserting** `P`.\n",
    "  - Edit distance between two strings is defined as the minimum number of character operations (update, delete, insert) required to convert one string into another.\n",
    "- Input:\n",
    "  - `CAT` & `CAR`. Edit distance is 1. `T`-> replace -> `R`\n",
    "  - `SATURDAY` & `SUNDAY`. Edit distance is 3. `A`-> insert. `T`-> insert. `R` -> replace -> `N`.\n",
    "  - From SUNDAY to S(insert `A`)(insert`T`)U(replace`N` with `R`)DAY\n",
    "- Observations:\n",
    "  1. There's 3 choices: insert, delete, replace.\n",
    "     - Means there's 3 possible options per lazy manager.\n",
    "     - Means the recurrence relation should define all 3 scenarios.\n",
    "     - Means 3^n Time Complexity.\n",
    "     - Means Brute Force recursive solution.\n",
    "  2. _\"How can the first lazy manager reduce the problem?\"_\n",
    "     - Compare's 2 strings one character at a time.\n",
    "     - If characters are SAME, continue looking at next character in both strings.\n",
    "     - If characters are different, perform all the operations on strings & **reduce** the string sizes so next manager looks at next string.\n"
   ]
  },
  {
   "cell_type": "code",
   "execution_count": 32,
   "metadata": {},
   "outputs": [
    {
     "data": {
      "text/plain": [
       "3"
      ]
     },
     "execution_count": 32,
     "metadata": {},
     "output_type": "execute_result"
    }
   ],
   "source": [
    "def edit_distance_recursive(a, b):\n",
    "    if not a:\n",
    "        return len(b)\n",
    "    if not b:\n",
    "        return len(a)\n",
    "    if a[0] == b[0]:\n",
    "        return edit_distance_recursive(a[1:], b[1:])\n",
    "    edit_a = edit_distance_recursive(a[1:], b)\n",
    "    edit_both = edit_distance_recursive(a[1:], b[1:])\n",
    "    edit_b = edit_distance_recursive(a, b[1:])\n",
    "    _min = min(edit_b, edit_a, edit_both) + 1\n",
    "    return _min\n",
    "\n",
    "\n",
    "edit_distance_recursive(\"SUNDAY\", \"SATURDAY\")"
   ]
  },
  {
   "cell_type": "code",
   "execution_count": 20,
   "metadata": {},
   "outputs": [
    {
     "name": "stdout",
     "output_type": "stream",
     "text": [
      "[0, 1, 2, 3, 4, 5, 6, 7, 8]\n",
      "[1, 0, 1, 2, 3, 4, 5, 6, 7]\n",
      "[2, 1, 1, 2, 2, 3, 4, 5, 6]\n",
      "[3, 2, 2, 2, 3, 3, 4, 5, 6]\n",
      "[4, 3, 3, 3, 3, 4, 3, 4, 5]\n",
      "[5, 4, 3, 4, 4, 4, 4, 3, 4]\n",
      "[6, 5, 4, 4, 5, 5, 5, 4, 3]\n"
     ]
    },
    {
     "data": {
      "text/plain": [
       "3"
      ]
     },
     "execution_count": 20,
     "metadata": {},
     "output_type": "execute_result"
    }
   ],
   "source": [
    "def edit_distance_DP(a, b):\n",
    "    nRows = len(a) + 1\n",
    "    nCols = len(b) + 1\n",
    "    table = [[0] * nCols for _ in range(nRows)]\n",
    "    for r in range(nRows):\n",
    "        for c in range(nCols):\n",
    "            if r == 0:\n",
    "                table[r][c] = c\n",
    "            elif c == 0:\n",
    "                table[r][c] = r\n",
    "            elif a[r - 1] == b[c - 1]:\n",
    "                table[r][c] = table[r - 1][c - 1]\n",
    "            else:\n",
    "                _min = (\n",
    "                    min(\n",
    "                        table[r - 1][c],  # upper\n",
    "                        table[r][c - 1],  # left\n",
    "                        table[r - 1][c - 1],  # upper-left\n",
    "                    )\n",
    "                    + 1\n",
    "                )\n",
    "                table[r][c] = _min\n",
    "    [print(row) for row in table]\n",
    "    return table[-1][-1]\n",
    "\n",
    "\n",
    "edit_distance_DP(\"SUNDAY\", \"SATURDAY\")"
   ]
  },
  {
   "cell_type": "markdown",
   "metadata": {},
   "source": [
    "---\n",
    "\n",
    "## Problem 2: **Total Path Count**\n",
    "\n",
    "- Problem:\n",
    "  - Given a 2D array, find total number of paths possible from top-left cell to the bottom-right cell if we are allowed to move only rigthward and downward. For example, if the matrix is of order 2\\*2 then only two paths are possible.\n",
    "- Input:\n",
    "  - Destination coordinates: `x, y`\n",
    "- Observations:\n",
    "  1. There's 2 choices: move-down, move-right.\n",
    "     - Means there's 2 possible choices per lazy manager in recursive solution.\n",
    "     - Means the recurrence relation should define all 2 scenarios.\n",
    "       - Since that the question is asking for **Total**, rather than **Max** or **Min**, then we should add the return values of both calls.\n",
    "     - Means 2^n Time Complexity\n",
    "     - Means Brute Force recursive solution\n",
    "  2. _\"How can the first lazy manager reduce the problem\"_\n",
    "     - Each decision represents 1-unit of distance travelled.\n",
    "  3. Recurrence Relation:\n",
    "     - `T(x, y) = T(x-1, y) + T(x, y-1)` = 2 changing vars = 2D table.\n",
    "     - Base Cases are defined as\n",
    "       - `x = 0` or `y = 0` then `return 1` : Intuition is that if one of our choices is taken away (equals `0`) then there's only 1 choice remaining and thus we can assert concretely a count of what is the only choice - IOW the only \"truthy\".\n"
   ]
  },
  {
   "cell_type": "code",
   "execution_count": 2,
   "metadata": {},
   "outputs": [
    {
     "data": {
      "text/plain": [
       "35"
      ]
     },
     "execution_count": 2,
     "metadata": {},
     "output_type": "execute_result"
    }
   ],
   "source": [
    "def num_paths_recursive(x, y):\n",
    "    if x == 0 and y == 0:\n",
    "        return 0\n",
    "    if x == 0 or y == 0:\n",
    "        return 1\n",
    "    return num_paths_recursive(x - 1, y) + num_paths_recursive(x, y - 1)\n",
    "\n",
    "\n",
    "num_paths_recursive(4, 3)"
   ]
  },
  {
   "cell_type": "code",
   "execution_count": 16,
   "metadata": {},
   "outputs": [
    {
     "data": {
      "text/plain": [
       "0"
      ]
     },
     "execution_count": 16,
     "metadata": {},
     "output_type": "execute_result"
    }
   ],
   "source": [
    "def number_of_paths(matrix, x=0, y=0):\n",
    "    if x == len(matrix[0]) - 1 and y == len(matrix) - 1:\n",
    "        return 0\n",
    "    if matrix[y][x] == 0:\n",
    "        return 0\n",
    "    if x == len(matrix[0]) - 1 or y == len(matrix) - 1:\n",
    "        return 1\n",
    "    return number_of_paths(matrix, x + 1, y) + number_of_paths(matrix, x, y + 1)\n",
    "\n",
    "\n",
    "number_of_paths([[0, 1, 1, 1], [1, 0, 0, 0], [1, 0, 0, 0], [1, 0, 0, 0]])"
   ]
  },
  {
   "cell_type": "code",
   "execution_count": 23,
   "metadata": {},
   "outputs": [
    {
     "name": "stdout",
     "output_type": "stream",
     "text": [
      "[1, 1, 1, 1]\n",
      "[1, 2, 3, 4]\n",
      "[1, 3, 6, 10]\n",
      "[1, 4, 10, 20]\n",
      "[1, 5, 15, 35]\n"
     ]
    },
    {
     "data": {
      "text/plain": [
       "35"
      ]
     },
     "execution_count": 23,
     "metadata": {},
     "output_type": "execute_result"
    }
   ],
   "source": [
    "def num_of_paths_DP(x, y):\n",
    "    nRows = x + 1\n",
    "    nCols = y + 1\n",
    "    table = [[0] * nCols for _ in range(nRows)]\n",
    "    for r in range(nRows):\n",
    "        for c in range(nCols):\n",
    "            if r == 0:\n",
    "                table[r][c] = 1\n",
    "            elif c == 0:\n",
    "                table[r][c] = 1\n",
    "            elif r == 0 and c == 0:\n",
    "                table[r][c] = 0\n",
    "            else:\n",
    "                table[r][c] = table[r - 1][c] + table[r][c - 1]\n",
    "    [print(r) for r in table]\n",
    "    return table[-1][-1]\n",
    "\n",
    "\n",
    "num_of_paths_DP(4, 3)"
   ]
  },
  {
   "cell_type": "code",
   "execution_count": 36,
   "metadata": {},
   "outputs": [
    {
     "name": "stdout",
     "output_type": "stream",
     "text": [
      "[0, 0, 0, 0, 0, 0, 0]\n"
     ]
    },
    {
     "data": {
      "text/plain": [
       "0"
      ]
     },
     "execution_count": 36,
     "metadata": {},
     "output_type": "execute_result"
    }
   ],
   "source": [
    "def number_of_paths(matrix):\n",
    "    if not matrix or not matrix[0]:\n",
    "        return 0\n",
    "    nRows = len(matrix)\n",
    "    nCols = len(matrix[0])\n",
    "    dp = [[0] * nCols for _ in range(nRows)]\n",
    "\n",
    "    # Base case: starting point\n",
    "    if matrix[0][0] == 0:\n",
    "        return 0\n",
    "    dp[0][0] = 1\n",
    "\n",
    "    for r in range(0, nRows):\n",
    "        for c in range(0, nCols):\n",
    "            if r == 0 and matrix[r][c] == 1:\n",
    "                dp[r][c] = dp[r][c - 1]\n",
    "            elif c == 0 and matrix[r][c] == 1:\n",
    "                dp[r][c] = dp[r - 1][c]\n",
    "            elif matrix[r][c] == 1:\n",
    "                dp[r][c] = dp[r - 1][c] + dp[r][c - 1]\n",
    "\n",
    "    # # Fill first row\n",
    "    # for c in range(1, nCols):\n",
    "    #     if matrix[0][c] == 1:\n",
    "    #         dp[0][c] = dp[0][c - 1]\n",
    "\n",
    "    # # Fill first column\n",
    "    # for r in range(1, nRows):\n",
    "    #     if matrix[r][0] == 1:\n",
    "    #         dp[r][0] = dp[r - 1][0]\n",
    "\n",
    "    # # Fill rest of the table\n",
    "    # for r in range(1, nRows):\n",
    "    #     for c in range(1, nCols):\n",
    "    #         if matrix[r][c] == 1:\n",
    "    #             dp[r][c] = dp[r - 1][c] + dp[r][c - 1]\n",
    "\n",
    "    [print(r) for r in dp]\n",
    "    return dp[-1][-1]\n",
    "\n",
    "\n",
    "number_of_paths([[1, 1, 1, 0, 1, 1, 1]])"
   ]
  },
  {
   "cell_type": "markdown",
   "metadata": {},
   "source": [
    "---\n",
    "\n",
    "## Problem 3: **String Interleaving**\n",
    "\n",
    "- Problem:\n",
    "  - String C is said to be interleaving of string A and B if it contains all the characters of A and B and the relative order of characters of both the strings is preserved in C. For example, if values of A, B and C are as given below:\n",
    "- Input:\n",
    "  ```python\n",
    "  A = 'bbca'\n",
    "  B = 'bcc'\n",
    "  C = 'bbcbcac'\n",
    "  ```\n",
    "  - String C is the interleaving of strings A and B.\n",
    "  - Given 3 strings A, B, C, write a function to check if third string is the interleaving of first and second strings.\n",
    "- Observations:\n",
    "  1. There's 2 choices: Take first character from string A, or string B\n",
    "     - Means there's 2 possible choices per lazy manager in recursive solution.\n",
    "     - Means the recurrence relation should define all 2 scenarios.\n",
    "       - Since that the question is asking for a **Determination** rather than **Max** or **Min**, then we should return `True` **or** `False`\n",
    "     - Means 2^n Time Complexity\n",
    "     - Means Brute Force recursive solution\n",
    "  2. _\"How can the first lazy manager reduce the problem\"_\n",
    "     - Each choice determine which string's first character matches the C string, and reduce C string and the matching string.\n",
    "  3. Recurrence Relation:\n",
    "     - `T(A, B, C) = T(A-1, B, C-1) or T(A, B-1, C-1)`\n",
    "     - **Base Cases**:\n",
    "       - `A.len == 0 && B.len == 0 && C.len == 0`: Means we have a solution\n",
    "       - `else C.len == 0`: Means we have characters not accounted for in C, so return `False`\n",
    "       - `else A.len == 0 and B.len == 0`: Means A & B don't have all the required characters, so return `False`\n",
    "  4. DP Tabulation:\n",
    "     - Table Dimensions: 3 changing variables: But C strings can be implied via the other 2 strings since if either A or B changes, then it means C also changed. This means we only need **2 dimensions**.\n",
    "     - Initialization Row/Col: Yes. Because it's possible one string could be empty while we continue checking the other string.\n",
    "     - _\"What question is each cell answering?\"_:\n",
    "       ```markdown\n",
    "       |     |     | b   | b   | c   | a   |\n",
    "       | --- | --- | --- | --- | --- | --- |\n",
    "       |     | T   |     |     |     |     |\n",
    "       | b   |     |     |     |     |     |\n",
    "       | c   |     |     |     |     |     |\n",
    "       | c   |     |     |     |     |     |\n",
    "       ```\n",
    "     - A cell `table[i][j]` is `True` if the first `i`-characters of A and the first `j`-characters of B interleve for the first `i+j`-characters of C.\n"
   ]
  },
  {
   "cell_type": "code",
   "execution_count": 61,
   "metadata": {},
   "outputs": [
    {
     "data": {
      "text/plain": [
       "True"
      ]
     },
     "execution_count": 61,
     "metadata": {},
     "output_type": "execute_result"
    }
   ],
   "source": [
    "def string_interleaving_recursive(a, b, c):\n",
    "    if not a and not b and not c:\n",
    "        return True\n",
    "    if not c:\n",
    "        return False\n",
    "    if not a and not b:\n",
    "        return False\n",
    "    r1, r2 = False, False\n",
    "    if len(a) and a[0] == c[0]:\n",
    "        r1 = string_interleaving_recursive(a[1:], b, c[1:])\n",
    "    if len(b) and b[0] == c[0]:\n",
    "        r2 = string_interleaving_recursive(a, b[1:], c[1:])\n",
    "    return r1 or r2\n",
    "\n",
    "\n",
    "string_interleaving_recursive(\"bbca\", \"bcc\", \"bbcbcac\")"
   ]
  },
  {
   "cell_type": "code",
   "execution_count": 74,
   "metadata": {},
   "outputs": [
    {
     "name": "stdout",
     "output_type": "stream",
     "text": [
      "[True, True, True, True, False]\n",
      "[True, None, None, None, None]\n",
      "[False, None, None, None, None]\n",
      "[True, None, None, None, None]\n",
      "\n",
      "\n",
      "[True, True, True, True, False]\n",
      "[True, True, True, True, True]\n",
      "[False, False, False, False, False]\n",
      "[True, True, True, True, True]\n"
     ]
    },
    {
     "data": {
      "text/plain": [
       "True"
      ]
     },
     "execution_count": 74,
     "metadata": {},
     "output_type": "execute_result"
    }
   ],
   "source": [
    "def string_interleaving_DP(a, b, c):\n",
    "    len_a = len(a) + 1\n",
    "    len_b = len(b) + 1\n",
    "    if len(c) + 2 != len_a + len_b:\n",
    "        return False\n",
    "    table = [[None] * len_b for _ in range(len_a)]\n",
    "    for row in range(1, len_a):\n",
    "        table[row][0] = a[row - 1] == c[row - 1]\n",
    "    for col in range(1, len_b):\n",
    "        table[0][col] = b[col - 1] == c[col - 1]\n",
    "    table[0][0] = True\n",
    "    [print(row) for row in table]\n",
    "    print(\"\\n\")\n",
    "\n",
    "    for i in range(1, len_a):\n",
    "        for j in range(1, len_b):\n",
    "            if a[i - 1] == c[i - 1] and b[i - 1] != c[i - 1]:\n",
    "                table[i][j] = table[i - 1][j]\n",
    "            elif a[i - 1] != c[i - 1] and b[i - 1] == c[i - 1]:\n",
    "                table[i][j] = table[i][j - 1]\n",
    "            elif a[i - 1] == c[i - 1] and b[i - 1] == c[i - 1]:\n",
    "                table[i][j] = table[i - 1][j] or table[i][j - 1]\n",
    "            else:\n",
    "                table[i][j] = False\n",
    "    [print(row) for row in table]\n",
    "    return table[-1][-1]\n",
    "\n",
    "\n",
    "string_interleaving_DP(\"bcc\", \"bbca\", \"bbcbcac\")"
   ]
  },
  {
   "cell_type": "markdown",
   "metadata": {},
   "source": [
    "---\n",
    "\n",
    "## Problem 4: **Subset Sum**\n",
    "\n",
    "- Problem:\n",
    "  - Given an array of non-negative integers and a positive number X, determine if there exists a subset of the elements of array with sum equal to X.\n",
    "- Input:\n",
    "  ```python\n",
    "  Array = [3, 2, 7, 1]\n",
    "  X = 6\n",
    "  ```\n",
    "- Output: `True` because `[3, 2, 1]` can be summed up to 6.\n",
    "- Observations:\n",
    "  1. There's 2 choices: Include element i'th element in the sum, or exclude the i'th element.\n",
    "     - Means there's 2 possible choices per lazy manager in recursive solution.\n",
    "     - Means the recurrence relation should define all 2 scenarios.\n",
    "       - Since that the question is asking for a **Determination** rather than some _Optimum_ (_Max_ or _Min_), then we should return `True` **or** `False`\n",
    "     - Means 2^n Time Complexity\n",
    "     - Means Brute Force recursive solution\n",
    "  2. _\"How can the first lazy manager reduce the problem\"_\n",
    "     - If the manager chooses to include a number, then X is reduced by 1 and # of available elements to choose next have also reduced by 1.\n",
    "     - If the manager chooses to exclude a number, then X is the same, but # of available elements to choose next should be reduce by 1 as well so that the next manager doesn't choose the same element that has already been chosen.\n",
    "     - _NOTE_ This problem is quite unique because there's no overlapping subproblems. The intuition should be that we're making choices in such\n",
    "       a way that it's impossible to make a previous choice in a different manner. Example is: When the total is 6, we can only make one choice\n",
    "       in the moment on how to reduce 6 to a smaller number given the current element. After we decide, we change the elements such that it's\n",
    "       impossible to make the same decision ever again. Does this mean DP is not useable? **NO**. _Overlapping_ subproblems is simply one of the\n",
    "       characteristics that tell us DP is a good option. Does this problem have sub-problems? **YES** and that's the most important feature of this question. The second & last most important feature is the fact that this is a **counting problem** in disguise. We need to produce every possible subset which is implicitly counting the total number of subsets, thus **counting problem**. DP is a the best way to **count**. So i would summarize all the above as follow.\n",
    "       > DP is the best solution structure when the problem can be reduced to _sub-problems_ AND we must _count_ ALL solutions.\n",
    "       > What we do with the _count_ is variable. Sometimes we count to optimize the **minimum**. Sometimes we count to optimize the **maximum**. Sometimes we count to simply **determine** if a solution exists at the expected count total. All scenarios either have an explicit or implicit count involved.\n",
    "  3. Recurrence Relation:\n",
    "     - `T(E, X) = T(E-1, X-e) or T(E-1, X)`\n",
    "     - **Base Cases**:\n",
    "       - `X == 0`: Means we have a solution; `return True`\n",
    "       - `E == [] and X > 0`: Means solution is impossible `return False`\n",
    "  4. Time Complexity:\n",
    "     - Generally speaking the recursion solution is upper-bounded by Big-Oh(2^n), where `n` is length of elements `E`.\n",
    "     - Additionally, it can be observed that `T(E-1, X-e)` is a decreasing function by factor greater than 1...`X-e` means that the decrease into the next recursive call is larger than 1. This actually makes the upper bound of this specific function call Big-Omega(2^n/m) where `m` is avg(E). So in a best-case scenario, E contains large numbers, that can decrease X to 0 such that a solution is found rather quickly; down the left-size of the recursion tree.\n"
   ]
  },
  {
   "cell_type": "code",
   "execution_count": 101,
   "metadata": {},
   "outputs": [
    {
     "name": "stdout",
     "output_type": "stream",
     "text": [
      "subPr:  [1, 5, 11, 5]  |  11\n",
      "subPr:  [5, 11, 5]  |  10\n",
      "subPr:  [11, 5]  |  5\n",
      "subPr:  [5]  |  -6\n",
      "subPr:  [5]  |  5\n",
      "subPr:  [11, 5]  |  10\n",
      "subPr:  [5]  |  -1\n",
      "subPr:  [5]  |  10\n",
      "subPr:  [5, 11, 5]  |  11\n",
      "subPr:  [11, 5]  |  6\n",
      "subPr:  [5]  |  -5\n",
      "subPr:  [5]  |  6\n",
      "subPr:  [11, 5]  |  11\n",
      "subPr:  [5]  |  11\n"
     ]
    },
    {
     "data": {
      "text/plain": [
       "True"
      ]
     },
     "execution_count": 101,
     "metadata": {},
     "output_type": "execute_result"
    }
   ],
   "source": [
    "def subset_sum_recursive(s, x):\n",
    "    if x == 0:\n",
    "        return True\n",
    "    if not s:\n",
    "        return False\n",
    "    print(\"subPr: \", s, \" | \", x)\n",
    "    return any([subset_sum_recursive(s[1:], x - s[0]), subset_sum_recursive(s[1:], x)])\n",
    "\n",
    "\n",
    "subset_sum_recursive([1, 5, 11, 5], 11)"
   ]
  },
  {
   "cell_type": "markdown",
   "metadata": {},
   "source": [
    "4. DP Tabulation:\n",
    "\n",
    "   1. Table Dimensions: 2 changing variables = **2 dimensions**\n",
    "      - _\"Do we need an initialization Row/Col\"_: The answer depends on if there are answers we need to count whenever one of the inputs is nullified.\n",
    "        - If `s == []` it means, we need to return `True` since any number can be the sum of no numbers.\n",
    "        - If `x == 0` it means we need to return `True` since it indicates there exists a set containing a subset that sum to `x`.\n",
    "        - Both of these conditions can be captured at `table[0][0] = True`, the answer is **NO** we do not need an initialization row & column.\n",
    "   2. Table Cell Meaning: _\"What question is each cell answering?\"_\n",
    "\n",
    "      ```markdown\n",
    "           |    | 0 | 1 | 2 | 3 | 4 | 5 | 6 | 7 | 8 | 9 | 10 | 11 | j\n",
    "           |----|---|---|---|---|---|---|---|---|---|---|----|----|\n",
    "\n",
    "      0 | 1 | T | T | F | F | F | F | F | F | F | F | F | F |\n",
    "      1 | 5 | T | F | F | F | F | T | T | | | | | |\n",
    "      2 | 11 | T | | | | | | | | | | | |\n",
    "      3 | 5 | T | | | | | | | | | | | |\n",
    "      i\n",
    "      ```\n",
    "\n",
    "      **Observe**: It's important to realize that `j` is every possible sub-value of `x`. So when we talk about `j` we should immediately map `j` to the `x` value for a sub-problem.\n",
    "\n",
    "      - A cell `table[i][j]` is `True` if the first `i`-values contain some subset that sum to the `j`-th value.\n",
    "      - Once a cell becomes `True` it will propagate `True` thru the rest of the column, indicating there exists a subset within the column regardless of any future `i` values considered.\n",
    "      - If a cell at `table[i][j]` is `False` it means one of several possibilities.\n",
    "        1. There exists no subset whose sum equals `j` from `table[i][j]` to `table[0][j]` (think vertically).\n",
    "        2. If the `i`-th character is greater than `j` then all values for `j` between 0 and `j` are less than `i` (think horizontally). So it's impossible to achieve a subset including the `i`'th value. However, if there was a subset before the `i`-th value that did sum to `j`, then `i` will be `True` as mentioned previously.\n",
    "\n",
    "   3. Table Cell Assignment: _\"How do we build from previous sub-problem answers?\"_\n",
    "      **Observe**: For cell `table[i][j]`\n",
    "      1. If the current `s[i]` value is less than `j` then we pull the previous answer into the current cell since this `i`-th value cannot contribute any help.\n",
    "      2. If the current `s[i]` is greater or equal to `j` then we pull the previous answer if `True` **OR** (trickiest part) we check if any previous `s[i]` values can be combined with the current `s[i]` value to equal the sum `j`. The intuition for this is hard to wrap the head around. But the following observations may help.\n",
    "         - The previous row contains all the results we have for **all** subproblems so far due to the perpetually updating subsequent cells if any cell is `True`, and if the previous row has a `False` value, it's because no rows so far contained a subset whose sum equal `j`. The point is, the previous row has any answer we need for the current row.\n",
    "         - How to find the right column in the previous row? Since we constrain our logic to only answering this question whenever _`s[i]` is greater than or equal to `j`_ we're ensuring that `s[i]-j` is a positive number. This number is the difference, and this difference is the number of columns we need to look behind the current cell to find the answer to the question: _\"Can `s[i]` plus some previous `s[i]` value `(s[i-x])` be summed to find `j`?\"_ We can express this as `table[i-1][j - s[i-1]]`\n"
   ]
  },
  {
   "cell_type": "code",
   "execution_count": 99,
   "metadata": {},
   "outputs": [
    {
     "name": "stdout",
     "output_type": "stream",
     "text": [
      "[True, True, False, False, False, False, False, False, False, False, False, False]\n",
      "[True, True, False, False, False, True, True, False, False, False, False, False]\n",
      "[True, True, False, False, False, True, True, False, False, False, False, True]\n",
      "[True, True, False, False, False, True, True, False, False, False, True, True]\n"
     ]
    },
    {
     "data": {
      "text/plain": [
       "True"
      ]
     },
     "execution_count": 99,
     "metadata": {},
     "output_type": "execute_result"
    }
   ],
   "source": [
    "def subset_sum_DP(s, x):\n",
    "    len_cols = x + 1\n",
    "    len_rows = len(s)\n",
    "    table = [[False] * len_cols for row in range(len_rows)]\n",
    "    for i in range(len_rows):\n",
    "        for j in range(len_cols):\n",
    "            if i == 0 and j == 0:\n",
    "                table[i][j] = True\n",
    "            elif i == 0:\n",
    "                table[i][j] = s[i] == j\n",
    "            elif j == 0:\n",
    "                table[i][j] = True\n",
    "            elif s[i] > j:\n",
    "                table[i][j] = table[i - 1][\n",
    "                    j\n",
    "                ]  # No subproblems exist at current i value. Take prev best\n",
    "            elif s[i] <= j:\n",
    "                table[i][j] = any(\n",
    "                    [\n",
    "                        table[i - 1][j],  # Exclude ith answer\n",
    "                        table[i - 1][j - s[i]],  # Include ith answer and Compare to\n",
    "                    ]\n",
    "                )\n",
    "    [print(row) for row in table]\n",
    "    return table[-1][-1]\n",
    "\n",
    "\n",
    "subset_sum_DP([1, 5, 11, 5], 11)"
   ]
  },
  {
   "cell_type": "markdown",
   "metadata": {},
   "source": [
    "---\n",
    "\n",
    "## Problem 5: **Longest Common Subsequence LCS**\n",
    "\n",
    "- Problem:\n",
    "  - Given two strings, determine if String 2 is a subsequence of String 1 maintaining index order.\n",
    "- Input:\n",
    "  ```python\n",
    "  s1 = 'abcdefghij\n",
    "  s2 = 'cdgi'\n",
    "  # True: cdgi = is an LCS of s1\n",
    "  ```\n",
    "  ```python\n",
    "  s1 = 'abcdefghij\n",
    "  s2 = 'ecdgi'\n",
    "  # False: egi, cdgi are both LCS of s1, but cdgi is the LCS. ecdgi is NOT a valid answer since c comes before e. Letters must be in alphabetical order.\n",
    "  ```\n",
    "- Observations:\n",
    "  1. There's 2 choices: If the ith char in is same in s1 & s2, then exclude it from both strings and call again. Else, exclude the ith character in s1, and exclude the ith character in s2 as 2 separate recurrent calls.\n",
    "     - Means there's 2 possible choices per lazy manager in recursive solution.\n",
    "     - Means the recurrence relation should define all 2 scenarios.\n",
    "       - Since the question is asking for a **Determination** rather than some _Optimum_ (_Max_ or _Min_), then we should return `True` **or** `False`\n",
    "     - Means 2^n Time Complexity\n",
    "     - Means Brute Force recursive solution\n",
    "  2. _\"How can the first lazy manager reduce the problem\"_\n",
    "     - If the manager chooses to include a number, then X is reduced by 1 and # of available elements to choose next have also reduced by 1.\n",
    "     - If the manager chooses to exclude a number, then X is the same, but # of available elements to choose next should be reduce by 1 as well so that the next manager doesn't choose the same element that has already been chosen.\n",
    "     - _NOTE_ This problem is quite unique because there's no overlapping subproblems. The intuition should be that we're making choices in such\n",
    "       a way that it's impossible to make a previous choice in a different manner. Example is: When the total is 6, we can only make one choice\n",
    "       in the moment on how to reduce 6 to a smaller number given the current element. After we decide, we change the elements such that it's\n",
    "       impossible to make the same decision ever again. Does this mean DP is not useable? **NO**. _Overlapping_ subproblems is simply one of the\n",
    "       characteristics that tell us DP is a good option. Does this problem have sub-problems? **YES** and that's the most important feature of this question. The second & last most important feature is the fact that this is a **counting problem** in disguise. We need to produce every possible subset which is implicitly counting the total number of subsets, thus **counting problem**. DP is a the best way to **count**. So i would summarize all the above as follow.\n",
    "       > DP is the best solution structure when the problem can be reduced to _sub-problems_ AND we must _count_ ALL solutions.\n",
    "       > What we do with the _count_ is variable. Sometimes we count to optimize the **minimum**. Sometimes we count to optimize the **maximum**. Sometimes we count to simply **determine** if a solution exists at the expected count total. All scenarios either have an explicit or implicit count involved.\n",
    "  3. Recurrence Relation:\n",
    "     - `T(E, X) = T(E-1, X-e) or T(E-1, X)`\n",
    "     - **Base Cases**:\n",
    "       - `X == 0`: Means we have a solution; `return True`\n",
    "       - `E == [] and X > 0`: Means solution is impossible `return False`\n",
    "  4. Time Complexity:\n",
    "     - Generally speaking the recursion solution is upper-bounded by Big-Oh(2^n), where `n` is length of elements `E`.\n",
    "     - Additionally, it can be observed that `T(E-1, X-e)` is a decreasing function by factor greater than 1...`X-e` means that the decrease into the next recursive call is larger than 1. This actually makes the upper bound of this specific function call Big-Omega(2^n/m) where `m` is avg(E). So in a best-case scenario, E contains large numbers, that can decrease X to 0 such that a solution is found rather quickly; down the left-size of the recursion tree.\n"
   ]
  },
  {
   "cell_type": "code",
   "execution_count": null,
   "metadata": {},
   "outputs": [],
   "source": [
    "def lcs_recursive(s1, s2):\n",
    "    if not s1 or not s2:\n",
    "        return 0\n",
    "    count = 0\n",
    "    while s1[count] == s2[count]:\n",
    "        count += 1"
   ]
  },
  {
   "cell_type": "markdown",
   "metadata": {},
   "source": [
    "---\n",
    "\n",
    "## Problem 6: **Longest Substring Half Sums Equal**\n",
    "\n",
    "- Problem:\n",
    "  - Find length of longest substring so that the sum of digits in first half are equal to the sum of digits in the second half.\n",
    "- Input:\n",
    "  ```python\n",
    "  # input\n",
    "  string = '9430723'\n",
    "  # answer = `4307` = sum value of 7 = length of 4\n",
    "  ```\n"
   ]
  },
  {
   "cell_type": "code",
   "execution_count": 8,
   "metadata": {},
   "outputs": [
    {
     "data": {
      "text/plain": [
       "4"
      ]
     },
     "execution_count": 8,
     "metadata": {},
     "output_type": "execute_result"
    }
   ],
   "source": [
    "def max_substr_length_DP(substr):\n",
    "    n = len(substr)\n",
    "    max_len = 0\n",
    "    table = [[\"-\"] * n for _ in range(n)]\n",
    "    for i in range(n):\n",
    "        table[i][i] = int(substr[i])\n",
    "    for length in range(2, n + 1):\n",
    "        for i in range((n - length) + 1):\n",
    "            j = (length - 1) + i\n",
    "            mid = length // 2\n",
    "            # NOTE: think triangularly, NOT quadrilaterally\n",
    "            left_half_sum = table[i][j - mid]\n",
    "            right_half_sum = table[j - mid + 1][j]\n",
    "            table[i][j] = left_half_sum + right_half_sum\n",
    "            if length % 2 == 0 and left_half_sum == right_half_sum and length > max_len:\n",
    "                max_len = length\n",
    "    return max_len\n",
    "\n",
    "\n",
    "max_substr_length_DP(\"9430723\")"
   ]
  }
 ],
 "metadata": {
  "kernelspec": {
   "display_name": "Python 3.8.9 ('env': venv)",
   "language": "python",
   "name": "python3"
  },
  "language_info": {
   "codemirror_mode": {
    "name": "ipython",
    "version": 3
   },
   "file_extension": ".py",
   "mimetype": "text/x-python",
   "name": "python",
   "nbconvert_exporter": "python",
   "pygments_lexer": "ipython3",
   "version": "3.8.9"
  },
  "orig_nbformat": 4,
  "vscode": {
   "interpreter": {
    "hash": "7567341d4109f7d7c109ca0cef11eb54bdf88081d7a72c6faa88d24a2db59b1f"
   }
  }
 },
 "nbformat": 4,
 "nbformat_minor": 2
}
