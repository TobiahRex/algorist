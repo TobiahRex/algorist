{
 "cells": [
  {
   "cell_type": "markdown",
   "metadata": {},
   "source": [
    "# Find-Union | Disjoint Set Union | \"DSU\"\n",
    "\n",
    "is defined as a data structure that keeps track of a set of elements partitioned into a number of disjoint (non-overlapping) subsets.\n",
    "\n",
    "## What\n",
    "\n",
    "1. **Find**: Determine which subset a particular element is in. This can be used for determining if two elements are in the same subset.\n",
    "2. **Union**: Join two subsets into a single subset. Here first we have to check if the two subsets belong to same set. If no, then we cannot perform union.\n",
    "3. A DSU will have an operation to combine any two sets. It will be able to tell in which set a sepcific element element exists. It can create a set from a new element.\n",
    "4. The DSU operations are all (on average) constant time operations.\n",
    "\n",
    "## Why\n",
    "\n",
    "Graphs can be abstractly mapped to mathematical sets. A set is a collection of elements all belonging to one unit. In discrete mathematics we perform logical operations on such data structures. A logical AND operation is finding the intersection of two sets. An OR operation is finding the union of two sets. So again, mapping this back to graphs, a connected component is a mathematical set. When we want to count the number of connected components, we're also saying we'd like to count the number of unique sets in collection of disjoint (un connected) sets.\n",
    "Some useful problems that can be solved using a DSU are:\n",
    "\n",
    "1. Detect a Cycle in a graph\n",
    "2. Count # of connected components.\n",
    "3. Compress Jumps on a Path\n",
    "4. Paint subarray offline | Determine max events we can attend given schedule\n",
    "\n",
    "## Interface\n",
    "\n",
    "1. `make_set(v)`: Creates a new set with new element `v`.\n",
    "2. `find_set(v)`: Finds the set that `v` belongs to.\n",
    "3. `union_sets(a, b)`: Combines sets `a` and `b`.\n",
    "   1. Union by _Rank_ = **Size**\n",
    "   2. Union by _Rank_ = **Depth**\n",
    "4. Distance from Child up to Parent\n"
   ]
  },
  {
   "cell_type": "code",
   "execution_count": null,
   "metadata": {},
   "outputs": [],
   "source": [
    "# Skeleton Structure\n",
    "class DSU:\n",
    "    def __init__(self):\n",
    "        self.parents = []\n",
    "\n",
    "    def make_set(self, v):\n",
    "        self.parents[v] = v\n",
    "\n",
    "    def find(self, v):\n",
    "        if v != self.parents[v]:\n",
    "            self.parents[v] = self.find(self.parents[v])\n",
    "        return self.parents[v]\n",
    "\n",
    "    def union(self, v1, v2):\n",
    "        p1, p2 = map(self.find, (v1, v2))\n",
    "        if p1 != p2:\n",
    "            self.parents[min(p1, p2)] = max(p1, p2)"
   ]
  },
  {
   "cell_type": "markdown",
   "metadata": {},
   "source": [
    "There's also another interface for the `make_set()` function. This would automatically generate the parent value based on the current length, guaranteeing a unique parent value. Also, this technique returns the parent value to the caller. This method makes sense whenever you're inputs/source values are not numbers themselves that are mappable to a sequentially increasing sequence for example; a string. If the _parent_ is actually some string etc value, then this would be the appropriate technique to represent the data in a DSU data structure.\n"
   ]
  },
  {
   "cell_type": "code",
   "execution_count": null,
   "metadata": {},
   "outputs": [],
   "source": [
    "class DSU:\n",
    "    def __init__(self) -> None:\n",
    "        self.parents = []\n",
    "\n",
    "    # constructor...\n",
    "    def make_set(self):\n",
    "        self.parents.append(len(self.parents))\n",
    "        return len(self.parents) - 1"
   ]
  },
  {
   "cell_type": "markdown",
   "metadata": {},
   "source": [
    "## How\n",
    "\n",
    "### `find()` + Path Compression\n",
    "\n",
    "1. We'll construct the sets as logically _Trees_ describing the tree as a list.\n",
    "\n",
    "<img src=\"https://imgur.com/50fAXXD.png\" style=\"max-width:500px\">\n",
    "\n",
    "2. The benefits of this Data structure is that we can express the relationship of parents and children in a hyper-flattened way for optimal lookup: **path compression**. Take the below image for example.\n",
    "\n",
    "<img src=\"https://imgur.com/26kskt3.png\" style=\"max-width:500px\">\n",
    "\n",
    "The naive implementation (left side) would be equivalent to the following `find()` code\n"
   ]
  },
  {
   "cell_type": "code",
   "execution_count": null,
   "metadata": {},
   "outputs": [],
   "source": [
    "class DSU:\n",
    "    def __init__(self):\n",
    "        self.parents = []\n",
    "\n",
    "    def find(self, v):\n",
    "        if v == self.parents[v]:\n",
    "            return v\n",
    "        return self.find(self.parents[v])  # Order(n) Time lookup"
   ]
  },
  {
   "cell_type": "markdown",
   "metadata": {},
   "source": [
    "However, we're able to assign every immediate descendent directly to the parent, creating an n-ary tree. This would greatly reduce the time taken to find a child of a parent. A simple adjustment would show this optimization\n"
   ]
  },
  {
   "cell_type": "code",
   "execution_count": null,
   "metadata": {},
   "outputs": [],
   "source": [
    "class DSU:\n",
    "    def __init__(self):\n",
    "        self.parents = []\n",
    "\n",
    "    def find(self, v):\n",
    "        if v != self.parents[v]:\n",
    "            self.parents[v] = self.find(self.parents[v])  # path compression\n",
    "        return self.parents[v]"
   ]
  },
  {
   "cell_type": "markdown",
   "metadata": {},
   "source": [
    "### `union()` | _Rank_ by **Size**\n",
    "\n",
    "We combine sets together based on which of the sets is smaller. The smaller gets merged into the larger as shown below\n"
   ]
  },
  {
   "cell_type": "code",
   "execution_count": null,
   "metadata": {},
   "outputs": [],
   "source": [
    "class DSU:\n",
    "    def __init__(self):\n",
    "        self.parents = []\n",
    "        self.sizes = []  # union by size\n",
    "\n",
    "    def make_set(self, v):\n",
    "        self.parents[v] = v\n",
    "        self.sizes = 1\n",
    "\n",
    "    def find(self, v):\n",
    "        if v != self.parents[v]:\n",
    "            self.parents[v] = self.find(self.parents[v])  # path compression\n",
    "        return self.parents[v]\n",
    "\n",
    "    def union(self, v1, v2):\n",
    "        p1, p2 = map(self.find, (v1, v2))\n",
    "        if p1 != p2:\n",
    "            if self.sizes[p1] < self.sizes[p2]:\n",
    "                p1, p2 = p2, p1  # 💡 swap, so p1 is always larger\n",
    "            self.parents[p2] = p1  # Merge smaller (p2) into larger (p1)\n",
    "            self.sizes[p1] += self.sizes[p2]  # Increase p1's size due to merge."
   ]
  },
  {
   "cell_type": "markdown",
   "metadata": {},
   "source": [
    "### `union_sets()` | _Rank_ by **Depth**\n",
    "\n",
    "There's also the technique to create a union based on tree depth of both sets. Depending on the use case/problem trying to solve, either scenario may work. Both are equivalent in time & space complexity terms.\n"
   ]
  },
  {
   "cell_type": "code",
   "execution_count": null,
   "metadata": {},
   "outputs": [],
   "source": [
    "class DSU:\n",
    "    def __init__(self):\n",
    "        self.parents = []\n",
    "        self.depth = []\n",
    "\n",
    "    def make_set(self, v):\n",
    "        self.parents[v] = v\n",
    "        self.depth = 0\n",
    "\n",
    "    def find(self, v):\n",
    "        if v != self.parents[v]:\n",
    "            self.parents[v] = self.find(self.parents[v])  # path compression\n",
    "        return self.parents[v]\n",
    "\n",
    "    def union(self, v1, v2):\n",
    "        p1, p2 = map(self.find, (v1, v2))\n",
    "        if p1 != p2:\n",
    "            if self.depth[p1] < self.depth[p2]:\n",
    "                p1, p2 = p2, p1\n",
    "            self.parents[p2] = p1\n",
    "            if (\n",
    "                self.depth[p1] == self.depth[p2]\n",
    "            ):  # ⛔️ make sure new parent is not the same depth as child\n",
    "                self.depth[p1] += 1"
   ]
  },
  {
   "cell_type": "markdown",
   "metadata": {},
   "source": [
    "## Time Complexity\n",
    "\n",
    "- If we combine both optimizations - _path compression_ with union by _size / rank_, we will reach nearly constant time queries.\n",
    "- Also, it's worth mentioning that DSU with union by size / rank, but **without** _path compression_ works in `Order(log(n))` time per query.\n"
   ]
  },
  {
   "cell_type": "markdown",
   "metadata": {},
   "source": [
    "# Problem Solving\n",
    "\n",
    "---\n",
    "\n",
    "## **Connected Components in an Undirected Graph**\n",
    "\n",
    "### Difficulty\n",
    "\n",
    "`Medium`\n",
    "\n",
    "### Description\n",
    "\n",
    "Given a boolean 2D matrix, find the number of islands.\n",
    "A group of connected 1s forms an island. For example, the below matrix contains 5 islands\n",
    "\n",
    "```python\n",
    "{1, 1, 0, 0, 0},\n",
    "{0, 1, 0, 0, 1},\n",
    "{1, 0, 0, 1, 1},\n",
    "{0, 0, 0, 0, 0},\n",
    "{1, 0, 1, 0, 1}\n",
    "```\n",
    "\n",
    "### Background\n",
    "\n",
    "1. > Are the vertices a & b in the same connected component of the graph?\n",
    "   - This is a rather useful question & anwer: _Kruskals Min-Cost Spanning Tree_ algorithm asks this question, and the Time Complexity `O(m * logn + n^2)` can be reduced to `O(m * log n)` using a DSU. We'll look at _Kruskals_ algorithm below.\n",
    "2. > Count the connected components in a graph\n",
    "   - A DSU can run a bit more efficiently than DFS/BFS's `Order(Vertices + Edges)` run time. We'll look at this problem below.\n",
    "\n",
    "### Solution Approach\n",
    "\n",
    "1. **BFS & DFS**: It's simple to implement the DFS/BFS + counting the connected components. Given that our graph representation is a matrix and not a list of edges & the total node count, then all solutions are going ot have the same Time Complexity: `Theta(rows * cols)`\n",
    "2. **DSU**: We'll detect 4 adjacent cells (up, down, left, right), and if those cells do not share the same parent as the current cell, we'll perform a union. Once we finish, we'll count the total number of unique values in the `parents` list which tells us how many unique sets of islands exist.\n"
   ]
  },
  {
   "cell_type": "code",
   "execution_count": 31,
   "metadata": {},
   "outputs": [
    {
     "data": {
      "text/plain": [
       "5"
      ]
     },
     "execution_count": 31,
     "metadata": {},
     "output_type": "execute_result"
    }
   ],
   "source": [
    "class DSU:\n",
    "    def __init__(self, n):\n",
    "        self.n = n\n",
    "        self.prev_weights = [0] * n\n",
    "        self.prev_parents = [i for i in range(n)]\n",
    "        self.weights = [0] * n\n",
    "        self.parents = [i for i in range(n)]\n",
    "\n",
    "    def reset(self):\n",
    "        self.prev_weights = self.weights\n",
    "        self.prev_parents = self.parents\n",
    "        self.weights = [0] * self.n\n",
    "        self.parents = [i for i in range(self.n)]\n",
    "\n",
    "    def make_set(self, p):\n",
    "        self.parents[p] = p\n",
    "        self.weights[p] = 1\n",
    "\n",
    "    def find(self, v, prev=False):\n",
    "        parents = self.parents if prev == False else self.prev_parents\n",
    "        if v == parents[v]:\n",
    "            return v\n",
    "        parents[v] = self.find(parents[v], prev=prev)\n",
    "        return parents[v]\n",
    "\n",
    "    def union(self, v1, v2, prev=False):\n",
    "        parents = self.prev_parents if prev else self.parents\n",
    "        p1 = self.find(v1)\n",
    "        p2 = self.find(v2, prev=prev)\n",
    "        if p1 == p2 and not prev:\n",
    "            return\n",
    "        weights = self.prev_weights if prev else self.weights\n",
    "        parents[p2] = p1\n",
    "        self.weights[p1] += weights[p2]\n",
    "        weights[p2] = 0\n",
    "\n",
    "    def count_islands(self):\n",
    "        islands = sum([1 for w in self.prev_weights if w])\n",
    "        return islands\n",
    "\n",
    "\n",
    "def count_components(matrix):\n",
    "    n, m, total = len(matrix), len(matrix[0]), 0\n",
    "    dsu = DSU(n)\n",
    "    for i in range(n):\n",
    "        for j in range(m):\n",
    "            if matrix[i][j]:\n",
    "                dsu.make_set(j)\n",
    "                if j - 1 >= 0 and matrix[i][j - 1]:\n",
    "                    dsu.union(j, j - 1)\n",
    "                if i - 1 >= 0 and matrix[i - 1][j]:\n",
    "                    dsu.union(j, j, prev=True)\n",
    "        total += dsu.count_islands()\n",
    "        dsu.reset()\n",
    "    total += dsu.count_islands()\n",
    "    return total\n",
    "\n",
    "\n",
    "count_components(\n",
    "    [\n",
    "        [1, 1, 1, 1, 0],\n",
    "        [0, 1, 0, 0, 1],\n",
    "        [1, 0, 0, 1, 1],\n",
    "        [0, 0, 0, 0, 0],\n",
    "        [1, 1, 1, 0, 1],\n",
    "    ]\n",
    ")"
   ]
  },
  {
   "cell_type": "markdown",
   "metadata": {},
   "source": [
    "---\n",
    "\n",
    "#### **Size of Islands | Maximum/Min Size component**\n",
    "\n",
    "1. The non DSU solution is well known: We simply perform BFS/DFS and compare the result of each components individual run-size. Using a DSU, we call `union_sets` whenever we locate a cell/value that we want to combine with. By the end of the entire graph traversal, our `sizes` or `depths` list will have all connected components. We would simply return the `max/min` value from this array.\n",
    "2. We can use the same technique in the counting the number of components. We simply update the `.count_islands()` method to keep a globalized max of the size that if finds before reseting the rows.\n",
    "\n",
    "#### **Compress Jumps along a Segment/Path**\n",
    "\n",
    "One common application of the DSU is the following: There is a set of vertices, and each vertex has an outgoing edge to another vertex. With DSU you can find the end point, to which we get after following all edges from a given starting point, in almost constant time.\n",
    "\n",
    "A good example of this application is the problem of painting subarrays. We have a segment of length , each element initially has the color 0. We have to repaint the subarray with the color for each query . At the end we want to find the final color of each cell. We assume that we know all the queries in advance, i.e. the task is offline.\n",
    "\n",
    "For the solution we can make a DSU, which for **each cell stores a link to the next unpainted cell**. Thus initially each cell points to itself. After painting one requested repaint of a segment, all cells from that segment will point to **the cell after the segment**.\n",
    "\n",
    "Now to solve this problem, we consider the queries in the reverse order: from last to first. This way when we execute a query, we only have to paint exactly the unpainted cells in the subarray . All other cells already contain their final color. To quickly iterate over all unpainted cells, we use the DSU. We find the left-most unpainted cell inside of a segment, repaint it, and with the pointer we move to the next empty cell to the right.\n",
    "\n",
    "Here we can use the DSU with path compression, but we cannot use union by rank / size (because it is important who becomes the leader after the merge). Therefore the complexity will be per union (which is also quite fast).\n",
    "\n",
    "Below is a problem demonstrating the technique...\n"
   ]
  },
  {
   "cell_type": "markdown",
   "metadata": {},
   "source": [
    "---\n",
    "\n",
    "## **LC: 1353: Maximum number of events that can be attended**\n",
    "\n",
    "### Difficulty\n",
    "\n",
    "`Medium`\n",
    "\n",
    "### Description\n",
    "\n",
    "You are given an array of events where `events[i] = [startDay i, endDay i]`. Every event `i` starts at `startDay i` and ends at `endDay i`.\n",
    "You can attend an event `i` at any day d where `startTime i <= d <= endTime i`. You can only attend one event at any time d.\n",
    "Return the maximum number of events you can attend.\n",
    "\n",
    "<img src=\"https://imgur.com/Rqzd86a.png\" style=\"max-width:500px\">\n",
    "\n",
    "```\n",
    "Input: events = [[1,2],[2,3],[3,4]]\n",
    "Output: 3\n",
    "Explanation: You can attend all the three events.\n",
    "One way to attend them all is as shown.\n",
    "Attend the first event on day 1.\n",
    "Attend the second event on day 2.\n",
    "Attend the third event on day 3.\n",
    "\n",
    "Input: events = [[1,2],[2,3],[3,4],[1,2]]\n",
    "Output: 4\n",
    "Explanation: You can attend all the four events.\n",
    "One way to attend them all is as shown.\n",
    "Attend the first event on day 1.\n",
    "Attend the second event on day 2.\n",
    "Attend the second event on day 3.\n",
    "Attend the third event on day 4.\n",
    "```\n",
    "\n",
    "**NOTE**: Total # of days = `len(events)`\n",
    "\n",
    "### Solution Approach\n",
    "\n",
    "Sort the events by their ending time. Intuitively we want to go to as many events as possible\n",
    "so that means we should prioritize (think greedily) the shortest events instead of the longest events.\n",
    "We can prioritize by sorting on the end times.\n",
    "\n",
    "Then we perform a union of all the days that map to events we're selecting to attend.\n",
    "We smartly point the last day of the selected event to the \"next day\" so as to answer the question:\n",
    "\"What is my next avilable day if i attend event i?\" (parents[start] = next available day). If the\n",
    "answer to this question is less than or equal to the scheduled end day `p <= end`, then we know it's in our interest\n",
    "to go to the event. Once we take the event, we move the pointer for next available day 1 value to the right.\n",
    "\n",
    "The result will be the maximum number of events we can attend given the scheduled events.\n"
   ]
  },
  {
   "cell_type": "code",
   "execution_count": 7,
   "metadata": {},
   "outputs": [
    {
     "data": {
      "text/plain": [
       "4"
      ]
     },
     "execution_count": 7,
     "metadata": {},
     "output_type": "execute_result"
    }
   ],
   "source": [
    "def max_events(events):\n",
    "    total = 0\n",
    "    events.sort(key=lambda n: n[1])  # sort by ending day of event\n",
    "    parents = list(\n",
    "        range(0, events[-1][1] + 2)\n",
    "    )  # Add an extra index, since we always point to the \"next\" day\n",
    "\n",
    "    def find(v):\n",
    "        if v != parents[v]:\n",
    "            parents[v] = find(parents[v])\n",
    "        return parents[v]\n",
    "\n",
    "    for start, end in events:\n",
    "        _end = find(start)\n",
    "        if (\n",
    "            _end <= end\n",
    "        ):  # If the next available day is lte to the scheduled end time, take it!\n",
    "            total += 1\n",
    "            parents[_end] += 1  # Our next available day is the \"next day\"\n",
    "    return total\n",
    "\n",
    "\n",
    "max_events([[1, 2], [2, 3], [3, 4], [1, 2]])"
   ]
  },
  {
   "cell_type": "markdown",
   "metadata": {},
   "source": [
    "Below would be the solution using the common Data Structure template for union find. Without the explicit data structure we can eliminate about 10 lines of code.\n"
   ]
  },
  {
   "cell_type": "code",
   "execution_count": 12,
   "metadata": {},
   "outputs": [
    {
     "data": {
      "text/plain": [
       "4"
      ]
     },
     "execution_count": 12,
     "metadata": {},
     "output_type": "execute_result"
    }
   ],
   "source": [
    "class DSU:\n",
    "    def __init__(self, events):\n",
    "        events.sort(key=lambda n: n[1])\n",
    "        self.parents = list(range(events[-1][1] + 2))\n",
    "\n",
    "    def find(self, v):\n",
    "        if v == self.parents[v]:\n",
    "            return self.parents[v]\n",
    "        self.parents[v] = self.find(self.parents[v])\n",
    "        return self.parents[v]\n",
    "\n",
    "    def union(self, v1, v2):\n",
    "        p1, p2 = map(self.find, (v1, v2))\n",
    "        self.parents[p1] = p2\n",
    "\n",
    "\n",
    "def maxEvents(events):\n",
    "    dsu = DSU(events)\n",
    "    total_events = 0\n",
    "    for start, end in events:\n",
    "        _end = dsu.find(start)\n",
    "        if _end <= end:\n",
    "            total_events += 1\n",
    "            dsu.union(_end, _end + 1)\n",
    "    return total_events\n",
    "\n",
    "\n",
    "maxEvents([[1, 3], [1, 4], [3, 4], [1, 2]])"
   ]
  },
  {
   "cell_type": "markdown",
   "metadata": {},
   "source": [
    "NOTE: We should especially point out the comparison of this approach to a typical Union-Find algorithm\n",
    "\n",
    "A typical Union-Find will abstract the union of sets to it's own function. In this problem however, we simplified the union on **line 14**. By changing the parents array for the current index to the next index, we're effectively making a union of index `p` and index `p + 1` sets. It's simplified because we're only focused on creating a chain of events. We don't need to 1) Worry about how many events (how many sets), and 2) We don't need to worry about how deep a set can become (how many nodes in a set). Ideas 1 & 2 are typically concerns that are addressed and accounted for in a typical _DSU.union_ method. In this problem we only care about the items NOT in a set, which is the same as saying: _The next available day we can schedule an event._\n",
    "\n",
    "The _find()_ function in the above solution however does map exactly to a typical _DSU.find_ method. It also leverages the _compression_ step: `p[v] = find(p, p[v])`. This step is what flattens out the set's child nodes from being unecessarily ancestralized. Instead, with compression the relationship from parent to child is as shallow as possible. This makes the lookup time extremely fast ~O(1) lookup time, rather than ~O(log(n)).\n"
   ]
  },
  {
   "cell_type": "markdown",
   "metadata": {},
   "source": [
    "---\n",
    "\n",
    "### Detect A Cycle\n",
    "\n",
    "1. We track all set sizes:\n",
    "   1. Negative number indicates a parent set.\n",
    "   2. Positive number indicates the parent set index for the given i'th vertex.\n",
    "      i.e. that i'th vertex is NOT a parent.\n",
    "2. As we discover more and more edges, we ensure the edge vertices belong to\n",
    "   two different sets. If they belong to the same set, then it means there is a cycle.\n",
    "3. The algo tracks the \"weight\" of the set: Frequency of vertices belonging to that set.\n",
    "   Do not confuse it with edge-weights.\n"
   ]
  },
  {
   "cell_type": "code",
   "execution_count": 32,
   "metadata": {},
   "outputs": [
    {
     "name": "stdout",
     "output_type": "stream",
     "text": [
      "Result:  False\n"
     ]
    }
   ],
   "source": [
    "# Solution without an explicit DSU data structure.\n",
    "def detect_cycle(n, edges):\n",
    "    parents = [-1] * n\n",
    "    set_count = n\n",
    "    for u, v in edges:\n",
    "        u_parent, u_weight = find(parents, u)\n",
    "        v_parent, v_weight = find(parents, v)\n",
    "        if any([u_parent == v, v_parent == u, u_parent == v_parent]):\n",
    "            return False  # cycle detected\n",
    "        else:\n",
    "            union(parents, u_weight, u_parent, v_weight, v_parent)\n",
    "            set_count -= 1\n",
    "    return set_count == 1\n",
    "\n",
    "\n",
    "def find(parents, n):\n",
    "    weight = parents[n]\n",
    "    while weight >= 0:\n",
    "        n = parents[n]\n",
    "        weight = parents[n]\n",
    "    return n, weight\n",
    "\n",
    "\n",
    "def union(parents, u_weight, u_parent, v_weight, v_parent):\n",
    "    if u_weight <= v_weight:\n",
    "        parents[u_parent] += v_weight\n",
    "        parents[v_parent] = u_parent\n",
    "    else:\n",
    "        parents[v_parent] += u_weight\n",
    "        parents[u_parent] = v_parent\n",
    "\n",
    "\n",
    "args = {\n",
    "    \"n\": 8,\n",
    "    \"edges\": [\n",
    "        [0, 1],\n",
    "        [0, 2],\n",
    "        [0, 5],\n",
    "        [1, 4],\n",
    "        [2, 3],\n",
    "        [3, 0],\n",
    "        [3, 7],\n",
    "        [4, 5],\n",
    "        [4, 6],\n",
    "        [4, 7],\n",
    "        [5, 1],\n",
    "        [5, 6],\n",
    "        [7, 6],\n",
    "        # ['', ''],\n",
    "    ],\n",
    "}\n",
    "print(\"Result: \", detect_cycle(*args.values()))"
   ]
  },
  {
   "cell_type": "markdown",
   "metadata": {},
   "source": [
    "A cleaner and more deterministic implementation is below. This is the code we can learn to commit to memory and try to adapt and modify to specific problem use cases.\n"
   ]
  },
  {
   "cell_type": "code",
   "execution_count": 14,
   "metadata": {},
   "outputs": [
    {
     "data": {
      "text/plain": [
       "2"
      ]
     },
     "execution_count": 14,
     "metadata": {},
     "output_type": "execute_result"
    }
   ],
   "source": [
    "class DSU:\n",
    "    def __init__(self, n):\n",
    "        self.parents = [i for i in range(n)]\n",
    "        self.ranks = [1] * n\n",
    "\n",
    "    def find(self, v):\n",
    "        if v == self.parents[v]:\n",
    "            return self.parents[v]\n",
    "        self.parents[v] = self.find(self.parents[v])\n",
    "        return self.parents[v]\n",
    "\n",
    "    def union(self, v1, v2):\n",
    "        p1, p2 = map(self.find, (v1, v2))\n",
    "        if p1 == p2:\n",
    "            return True  # cycle detected\n",
    "        else:\n",
    "            if self.ranks[p2] > self.ranks[p1]:\n",
    "                p1, p2 = p2, p1\n",
    "            self.parents[p2] = p1\n",
    "            self.ranks[p1] += self.ranks[p2]\n",
    "        return False\n",
    "\n",
    "\n",
    "def detect_cycle(n, edges):\n",
    "    dsu = DSU(n)\n",
    "    remove_count = 0\n",
    "    for u, v in edges:\n",
    "        has_cycle = dsu.union(u - 1, v - 1)\n",
    "        if has_cycle:\n",
    "            remove_count += 1\n",
    "    return remove_count\n",
    "\n",
    "\n",
    "detect_cycle(4, [[1, 2], [2, 3], [3, 4], [4, 1], [2, 3]])"
   ]
  }
 ],
 "metadata": {
  "kernelspec": {
   "display_name": "Python 3.8.9 ('env': venv)",
   "language": "python",
   "name": "python3"
  },
  "language_info": {
   "codemirror_mode": {
    "name": "ipython",
    "version": 3
   },
   "file_extension": ".py",
   "mimetype": "text/x-python",
   "name": "python",
   "nbconvert_exporter": "python",
   "pygments_lexer": "ipython3",
   "version": "3.8.9"
  },
  "orig_nbformat": 4,
  "vscode": {
   "interpreter": {
    "hash": "7567341d4109f7d7c109ca0cef11eb54bdf88081d7a72c6faa88d24a2db59b1f"
   }
  }
 },
 "nbformat": 4,
 "nbformat_minor": 2
}
