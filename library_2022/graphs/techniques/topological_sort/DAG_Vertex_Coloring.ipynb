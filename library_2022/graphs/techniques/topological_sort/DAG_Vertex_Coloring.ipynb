{
 "cells": [
  {
   "cell_type": "markdown",
   "metadata": {},
   "source": [
    "# Vertex Coloring\n",
    "\n",
    "Uses color accounting to ensure deterministic ordering of travel from source node `u` to all child nodes `v` in a DAG.\n",
    "<br>\n",
    "<img src=\"https://imgur.com/9qoKrpd.png\" style=\"max-width: 500px\">\n",
    "<br>\n",
    "<img src=\"https://imgur.com/jZwsubn.png\" style=\"max-width: 500px\">\n",
    "<br>\n",
    "<img src=\"https://imgur.com/7RtAP1d.png\" style=\"max-width: 500px\">\n",
    "<br>\n",
    "<img src=\"https://imgur.com/9S2ANeD.png\" style=\"max-width: 500px\">\n",
    "\n",
    "## How\n",
    "\n",
    "1. The steps use 3 colors to 'mark' which nodes we've seen, which nodes are in progress, and which nodes are completed.\n",
    "   - `WHITE` = unseen\n",
    "   - `GRAY` = seen but **NOT** finished\n",
    "   - `BLACK` = seen and finished\n",
    "2. We use DFS to iterate thru every edge, and if we locate a target node `v` that we've already seen then we know there exists a cycle in the graph and topological-sorting the DAG is impossible.\n",
    "   <br>\n",
    "   <img src=\"https://imgur.com/LOdZY2i.png\" style=\"max-width: 500px\">\n"
   ]
  },
  {
   "cell_type": "code",
   "execution_count": null,
   "metadata": {},
   "outputs": [],
   "source": [
    "from collections import defaultdict\n",
    "\n",
    "\n",
    "class Solution:\n",
    "    WHITE = 1  # unseen\n",
    "    GRAY = 2  # seen & unfinished\n",
    "    BLACK = 3  # seen & finished\n",
    "    has_cycle = False\n",
    "\n",
    "    def findOrder(self, numCourses, prerequisites):\n",
    "        self.edges = self.build_graph(prerequisites)\n",
    "        self.colors = {k: Solution.WHITE for k in range(numCourses)}  # Note 1\n",
    "        self.topo = []\n",
    "        for u in range(numCourses):\n",
    "            if self.colors[u] == Solution.WHITE:  # Note 2\n",
    "                self.dfs(u)\n",
    "        return [] if self.has_cycle else self.topo[::-1]\n",
    "\n",
    "    def dfs(self, u):\n",
    "        if self.has_cycle:  # Note 3\n",
    "            return\n",
    "        self.colors[u] = Solution.GRAY\n",
    "        for v in self.edges.get(u, []):\n",
    "            if self.colors.get(v) == Solution.WHITE:\n",
    "                self.dfs(v)\n",
    "            elif self.colors.get(v) == Solution.GRAY:  # Note 4\n",
    "                self.has_cycle = True\n",
    "        self.colors[u] = Solution.BLACK  # Note 5\n",
    "        self.topo.append(u)\n",
    "\n",
    "    def build_graph(self, prereqs):\n",
    "        edge_map = defaultdict(list)\n",
    "        for v, u in prereqs:\n",
    "            edge_map[u].append(v)\n",
    "        return edge_map\n",
    "\n",
    "\n",
    "args = {\"n\": 3, \"edges\": [[1, 0], [1, 2], [0, 1]]}\n",
    "Solution().findOrder(*args.values())"
   ]
  }
 ],
 "metadata": {
  "kernelspec": {
   "display_name": "Python 3.8.9 ('env': venv)",
   "language": "python",
   "name": "python3"
  },
  "language_info": {
   "name": "python",
   "version": "3.8.9"
  },
  "orig_nbformat": 4,
  "vscode": {
   "interpreter": {
    "hash": "7567341d4109f7d7c109ca0cef11eb54bdf88081d7a72c6faa88d24a2db59b1f"
   }
  }
 },
 "nbformat": 4,
 "nbformat_minor": 2
}
