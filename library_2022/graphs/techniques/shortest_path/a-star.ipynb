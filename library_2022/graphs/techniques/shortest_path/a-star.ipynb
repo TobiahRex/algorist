{
 "cells": [
  {
   "cell_type": "markdown",
   "metadata": {},
   "source": [
    "# A Star\n",
    "\n",
    "## Terms\n",
    "\n",
    "- **H Score**: Hueristic score by absolute distance from some location to the desired location.\n",
    "- **G Score**: The current _shortest distance_ between the current node, and the target node.\n",
    "- **F Score**: The Sum of H & G scores.\n",
    "- **Open Set**: A Priority Queue, sorted by F-score containing the node to consider next. (Max-Heap)\n",
    "- **Last Node**: The last node that was considered.\n",
    "\n",
    "## Control Flow\n",
    "\n",
    "1. Evaluate all neighbors (N's)...\n",
    "   1. Compare the edge length from current to N. Add the edge-weight to the G-score of the current N, which will be the G-score to go to N.\n",
    "      If the G-score to go to N is less than N's current G-score, than update the G-score for N on record.\n",
    "   2. Update the H-score by some hueristic evaluation.\n",
    "   3. Update the F-score by adding G & H scores.\n",
    "   4. Update the `last` node on record for the N. If we're coming from Node A, and going to node C (N), then C's `last` value should be `A`.\n",
    "   5. Put the node we updated into the priority-Q as a tuple with it's F-score.\n",
    "2. Upon finishing Neighbor evaluation, we will pluck out the node from the Priority Queue with the _minimum_ F-score.\n",
    "3. If the node plucked is the destination, we know we've found the minimum distance to that node.\n",
    "4. Compose Final Path\n",
    "   1. We use the current node's value to map to the `last` node we saw. From that node, we continue finding the subsequent `last` node until we've looked all the way to the first node.\n",
    "\n",
    "## Issues\n",
    "\n",
    "1. Hueristics. The 2 main hueristic functions are\n",
    "   1. _Manhattan_ distance: The distance a taxi would travel to reach the destination in a manhattan city block layout.\n",
    "      ```python\n",
    "      manhattan_distance = abs(final_row - curr_row) + abs(final_col - curr_col)\n",
    "      ```\n",
    "   2. _Euclidean_ distance: The tangential distance between two grid points as the crow fly's.\n",
    "      ```python\n",
    "      a = (final_row - curr_row)**2\n",
    "      b = (final_col - curr_col)**2\n",
    "      euclidean_distance = (a + b)**0.5\n",
    "      ```\n",
    "   3. **Problems that arise**: If the hueristic over-estimates the distance than a shortest path solution will not be found deterministically. There must be a guarantee that the hueristic distance is the shortest-optimal distance a piece would have to travel to achieve the desired goal.\n",
    "      An example of where this problem can be difficult to detect is a Knight-Path problem. The knight moves in a non-straight way. The shortest necessary distance a knight needs to travel in manhattan terms is 3-squares from the final destination. The shortest necessary distance\n",
    "      in euclidean terms is (2**2 + 1**2)\\*\\*0.5 which is equal to 2.2360679. If however, we are trying to calculate the hueristic for the squares direclty adjacent to the final destination coordinate, what value do we return? It should be a value definitely larger than 2.36 or 3 depending on which\n",
    "      distance formula we're using, however, how much bigger? Well this is where board-square-colors are kind of the key. Assuming a real chess-board, if a knight is wanting to travel to an adjacent square of the same color, the minimum hops is 2, otherwise it's 3. So for Knight-Path problems at least,\n",
    "      the boards square colors are actually important to consider as they provide the clue to returning the correct hueristic.\n"
   ]
  }
 ],
 "metadata": {
  "kernelspec": {
   "display_name": "Python 3.8.9 ('env': venv)",
   "language": "python",
   "name": "python3"
  },
  "language_info": {
   "codemirror_mode": {
    "name": "ipython",
    "version": 3
   },
   "file_extension": ".py",
   "mimetype": "text/x-python",
   "name": "python",
   "nbconvert_exporter": "python",
   "pygments_lexer": "ipython3",
   "version": "3.8.9"
  },
  "orig_nbformat": 4,
  "vscode": {
   "interpreter": {
    "hash": "7567341d4109f7d7c109ca0cef11eb54bdf88081d7a72c6faa88d24a2db59b1f"
   }
  }
 },
 "nbformat": 4,
 "nbformat_minor": 2
}
