{
 "cells": [
  {
   "cell_type": "markdown",
   "metadata": {},
   "source": [
    "## BFS\n",
    "\n",
    "### Asymptotes\n",
    "\n",
    "- Time: `O(|V| + |E|)`\n",
    "- Space: `O(|V|)` To maintain `visited` node\n",
    "\n",
    "#### Why?\n",
    "\n",
    "1. Being able to answer optimality questions can be done only with BFS.\n",
    "   - _Shortest/Longest_ path in a graph.\n",
    "   - _Min/Max Cost_ of a path in a graph.\n",
    "2. When every path needs to be touched. Unlike DFS which is concerned with carving out deep traversals in a graph as quickly as possible, BFS is slowly chopping away tiny piece by tiny piece.\n",
    "\n",
    "#### Iterative\n",
    "\n",
    "- Iterative is the most straight forward. It's essentially exactly the same process as DFS but using a Queue rather than a Stack.\n",
    "- We pop a node off the Queue and processes its children. Since we pop off a Queue the FIFO technique creates the BFS effect.\n"
   ]
  },
  {
   "cell_type": "markdown",
   "metadata": {},
   "source": [
    "To Start the journey let's assume we build graphs using a node count `n` and an edges list `edges` with `u` and `v`.\n"
   ]
  },
  {
   "cell_type": "code",
   "execution_count": null,
   "metadata": {},
   "outputs": [],
   "source": [
    "def build_graph(n, edges):\n",
    "    adj_map = {i: set() for i in range(n + 1)}\n",
    "    for v1, v2 in edges:\n",
    "        adj_map[v1].add(v2)\n",
    "        adj_map[v2].add(v1)\n",
    "    return adj_map"
   ]
  },
  {
   "cell_type": "markdown",
   "metadata": {},
   "source": [
    "To kick all of these `bfs` functions off. We can assume in all cases that the `build_graph` function has been called, and completed, and the `setup` function has also been called and thus the `bfs` is initialized.\n"
   ]
  },
  {
   "cell_type": "code",
   "execution_count": null,
   "metadata": {},
   "outputs": [],
   "source": [
    "def setup(n, edges):\n",
    "    adj_map = build_graph(n, edges)\n",
    "    visited = set()\n",
    "    for i in adj_map.keys():\n",
    "        if i not in visited:\n",
    "            bfs(adj_map, i, visited)"
   ]
  },
  {
   "cell_type": "code",
   "execution_count": null,
   "metadata": {},
   "outputs": [],
   "source": [
    "from collections import deque\n",
    "\n",
    "\n",
    "def bfs(adj_map, start_vertex, visited):\n",
    "    visited.add(start_vertex)\n",
    "    q = deque([start_vertex])\n",
    "    while q:\n",
    "        u = q.pop()\n",
    "        for v in adj_map.get(u):\n",
    "            if v not in visited:\n",
    "                visited.add(v)\n",
    "                q.appendleft(v)"
   ]
  },
  {
   "cell_type": "markdown",
   "metadata": {},
   "source": [
    "#### Recursive\n",
    "\n",
    "- Recursive BFS is basically a level order Tree traversal.\n"
   ]
  },
  {
   "cell_type": "code",
   "execution_count": null,
   "metadata": {},
   "outputs": [],
   "source": [
    "def bfs(adj_map, q, visited):\n",
    "    if not q:\n",
    "        return\n",
    "    u = q.pop()\n",
    "    for v in adj_map.get(u):\n",
    "        if v not in visited:\n",
    "            visited.add(v)\n",
    "            q.appendleft(v)\n",
    "    bfs(adj_map, q, visited)"
   ]
  },
  {
   "cell_type": "markdown",
   "metadata": {},
   "source": [
    "Comparing the above function with _Level Order Traversal_ we can see a lot of similarities\n"
   ]
  },
  {
   "cell_type": "code",
   "execution_count": null,
   "metadata": {},
   "outputs": [],
   "source": [
    "# recursive\n",
    "def level_order(root, height):\n",
    "    for level in range(1, height + 1):\n",
    "        if root is None:\n",
    "            return\n",
    "        if level == 1:\n",
    "            print(root.data)\n",
    "        elif level > 1:\n",
    "            level_order(root.left, level - 1)\n",
    "            level_order(root.right, level - 1)"
   ]
  },
  {
   "cell_type": "code",
   "execution_count": null,
   "metadata": {},
   "outputs": [],
   "source": [
    "# iterative\n",
    "def level_order(root):\n",
    "    if not root:\n",
    "        return\n",
    "    q = deque([root])\n",
    "    while q:\n",
    "        for i in range(\n",
    "            0, q.length\n",
    "        ):  # we want to iterate only those nodes added by the prev. level\n",
    "            node = q.pop()\n",
    "            do_work()\n",
    "            if node.left:\n",
    "                q.appendleft(node.left)\n",
    "            if node.right:\n",
    "                q.appendleft(node.right)"
   ]
  },
  {
   "cell_type": "markdown",
   "metadata": {},
   "source": [
    "While many problems can be solved using various algorithms, BFS (Breadth-First Search) shines in particular scenarios due to its nature of exploring nodes level by level. Here are four types of problems where BFS is uniquely suitable or the most straightforward approach:\n",
    "\n",
    "1. **Shortest Path in Unweighted Graphs; Dijkstra**:\n",
    "\n",
    "   - BFS can be used to find the shortest path in unweighted graphs since it explores nodes in increasing distance from the start node. This means that when you reach a target node using BFS, you're guaranteed to have found the shortest path to it.\n",
    "   - Example: Given an unweighted, undirected graph and two nodes, A and B, find the shortest path between A and B.\n",
    "\n",
    "2. **Level Order Traversal in Trees**:\n",
    "\n",
    "   - In binary trees or other hierarchical structures, BFS (often called level-order traversal in this context) can be used to traverse the nodes level by level.\n",
    "   - Example: Given a binary tree, print its elements in level order.\n",
    "\n",
    "3. **Connected Components in a Graph**:\n",
    "\n",
    "   - BFS can be used to identify all connected components in an undirected graph. By starting a BFS traversal from any unvisited node and marking all reachable nodes, you can determine one connected component. Repeating this for all unvisited nodes will identify all connected components.\n",
    "   - Example: Given an undirected graph, find the number of connected components.\n",
    "\n",
    "4. **Bipartiteness Check**:\n",
    "\n",
    "   - BFS can be used to check if a graph is bipartite or not. A graph is bipartite if its vertices can be divided into two disjoint sets in such a way that every edge of the graph connects a vertex from the first set to a vertex in the second set.\n",
    "   - During BFS traversal, if at any step, if a vertex is found to be a neighbor of itself (i.e., there's a self-loop) or two adjacent vertices are found to be in the same level, then the graph is not bipartite.\n",
    "   - Example: Given a graph, check if it is bipartite.\n",
    "\n",
    "5. **Finding the Minimum Cycles in a Graph**:\n",
    "\n",
    "   - BFS can be employed to determine the shortest cycle in a graph. By keeping track of parent nodes, if a visited node is encountered that isn't the parent of the current node, a cycle has been found. The length of the cycle can be calculated by considering the difference in levels between the two occurrences of the node.\n",
    "\n",
    "6. **Finding Shortest Path in a Matrix**:\n",
    "\n",
    "   - BFS can be used to find the shortest path in a 2D matrix/grid, especially when movement is allowed only in specified directions (e.g., up, down, left, right).\n",
    "   - Example: In a 2D grid with obstacles, find the shortest path from the top-left corner to the bottom-right corner.\n",
    "\n",
    "7. **Flood Fill Algorithm**:\n",
    "\n",
    "   - Often used in tools like paint, BFS can fill an area of pixels with a particular color until the boundary of initial color is reached.\n",
    "   - Example: Given a point in a 2D grid and a color, fill the region of the grid that contains the point with the given color.\n",
    "\n",
    "8. **Spreading Processes**:\n",
    "\n",
    "   - BFS can be used to model spreading processes, such as how a virus spreads, how news propagates through a network, or how fire spreads in a forest. This is because BFS explores all nodes at the current \"front\" before moving outwards.\n",
    "   - Example: Given a network and a starting node, determine how many nodes will receive a piece of information after `k` steps if it spreads to all direct neighbors in one step.\n",
    "\n",
    "9. **Topological Sorting for a Graph with Unique Solution**:\n",
    "   - While topological sorting is typically associated with Depth First Search (DFS), in a graph where each level has exactly one vertex (i.e., there's a unique topological ordering), BFS can be used efficiently by iteratively picking off nodes with in-degree of zero.\n"
   ]
  }
 ],
 "metadata": {
  "kernelspec": {
   "display_name": "Python 3.8.9 ('env': venv)",
   "language": "python",
   "name": "python3"
  },
  "language_info": {
   "name": "python",
   "version": "3.8.9"
  },
  "orig_nbformat": 4,
  "vscode": {
   "interpreter": {
    "hash": "7567341d4109f7d7c109ca0cef11eb54bdf88081d7a72c6faa88d24a2db59b1f"
   }
  }
 },
 "nbformat": 4,
 "nbformat_minor": 2
}
