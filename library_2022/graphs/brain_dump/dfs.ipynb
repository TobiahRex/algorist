{
 "cells": [
  {
   "cell_type": "markdown",
   "metadata": {},
   "source": [
    "## DFS\n",
    "\n",
    "#### Recursive\n",
    "- Recursive DFS is super easy and quick to implement. However it does come with the cost of existing on the call stack. The implementation below is the most terse implementation i could come up with."
   ]
  },
  {
   "cell_type": "code",
   "execution_count": null,
   "metadata": {},
   "outputs": [],
   "source": [
    "def dfs(graph, u, visited=set()):\n",
    "    visited.add(u)\n",
    "    for v in graph.get(u):\n",
    "        if v not in visited:\n",
    "            dfs(graph, v, visited)"
   ]
  },
  {
   "cell_type": "markdown",
   "metadata": {},
   "source": [
    "#### Iterative\n",
    "- Iterative DFS is fairly straight forward as well for a Graph traversal. It's much more complicated in a Tree (Post-Order traversal)."
   ]
  },
  {
   "cell_type": "code",
   "execution_count": null,
   "metadata": {},
   "outputs": [],
   "source": [
    "from collections import deque\n",
    "\n",
    "def dfs(graph, vertex, visited=set()):\n",
    "    visited.add(vertex)\n",
    "    stack = deque([vertex])\n",
    "    while stack:\n",
    "        u = stack.pop()\n",
    "        for v in graph.get(u):\n",
    "            if v not in visited:\n",
    "                visited.add(v)\n",
    "                stack.appendleft(v)"
   ]
  },
  {
   "cell_type": "markdown",
   "metadata": {},
   "source": [
    "It should be mentioned that we can sometimes abstract the neighbor detection process to another function in both implementations..."
   ]
  },
  {
   "cell_type": "code",
   "execution_count": null,
   "metadata": {},
   "outputs": [],
   "source": [
    "from collections import deque\n",
    "\n",
    "def dfs(graph, vertex, visited=set()):\n",
    "    stack = deque([vertex])\n",
    "    while stack:\n",
    "        u = stack.pop()\n",
    "        visited.add(u)\n",
    "        for v in get_neighbors(graph, u, visited):\n",
    "            if v not in visited:\n",
    "                visited.add(v)\n",
    "                stack.appendleft(v)\n",
    "\n",
    "# Cartesian Grid Style: Check all 8 adjacent squares\n",
    "def get_neighbors(g, parent, visited):\n",
    "    neighbors = []\n",
    "    for i in [-1, 0, 1]:\n",
    "        for j in [-1, 0, 1]:\n",
    "            n = (parent[0] + i, parent[1] + j)\n",
    "            # out of bounds checking\n",
    "            if 0 > n[0] or n[0] >= len(g) or \\\n",
    "                0 > n[1] or n[1] >= len(g[0]) or \\\n",
    "                not g[n[0]][n[1]]: continue\n",
    "            elif n not in visited:\n",
    "                visited.add(n)\n",
    "                neighbors.append(n)\n",
    "    return neighbors"
   ]
  }
 ],
 "metadata": {
  "kernelspec": {
   "display_name": "Python 3.8.9 ('env': venv)",
   "language": "python",
   "name": "python3"
  },
  "language_info": {
   "name": "python",
   "version": "3.8.9"
  },
  "orig_nbformat": 4,
  "vscode": {
   "interpreter": {
    "hash": "7567341d4109f7d7c109ca0cef11eb54bdf88081d7a72c6faa88d24a2db59b1f"
   }
  }
 },
 "nbformat": 4,
 "nbformat_minor": 2
}
